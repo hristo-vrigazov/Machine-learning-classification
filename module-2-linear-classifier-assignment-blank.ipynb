{
 "cells": [
  {
   "cell_type": "markdown",
   "metadata": {},
   "source": [
    "# Predicting sentiment from product reviews\n",
    "\n",
    "\n",
    "The goal of this first notebook is to explore logistic regression and feature engineering with existing GraphLab functions.\n",
    "\n",
    "In this notebook you will use product review data from Amazon.com to predict whether the sentiments about a product (from its reviews) are positive or negative.\n",
    "\n",
    "* Use SFrames to do some feature engineering\n",
    "* Train a logistic regression model to predict the sentiment of product reviews.\n",
    "* Inspect the weights (coefficients) of a trained logistic regression model.\n",
    "* Make a prediction (both class and probability) of sentiment for a new product review.\n",
    "* Given the logistic regression weights, predictors and ground truth labels, write a function to compute the **accuracy** of the model.\n",
    "* Inspect the coefficients of the logistic regression model and interpret their meanings.\n",
    "* Compare multiple logistic regression models.\n",
    "\n",
    "Let's get started!\n",
    "    \n",
    "## Fire up GraphLab Create"
   ]
  },
  {
   "cell_type": "markdown",
   "metadata": {},
   "source": [
    "Make sure you have the latest version of GraphLab Create."
   ]
  },
  {
   "cell_type": "code",
   "execution_count": 1,
   "metadata": {
    "collapsed": false
   },
   "outputs": [],
   "source": [
    "from __future__ import division\n",
    "import graphlab\n",
    "import math\n",
    "import string"
   ]
  },
  {
   "cell_type": "markdown",
   "metadata": {},
   "source": [
    "# Data preperation\n",
    "\n",
    "We will use a dataset consisting of baby product reviews on Amazon.com."
   ]
  },
  {
   "cell_type": "code",
   "execution_count": 3,
   "metadata": {
    "collapsed": false
   },
   "outputs": [],
   "source": [
    "products = graphlab.SFrame('amazon_baby.gl/')"
   ]
  },
  {
   "cell_type": "markdown",
   "metadata": {},
   "source": [
    "Now, let us see a preview of what the dataset looks like."
   ]
  },
  {
   "cell_type": "code",
   "execution_count": 4,
   "metadata": {
    "collapsed": false
   },
   "outputs": [
    {
     "data": {
      "text/html": [
       "<div style=\"max-height:1000px;max-width:1500px;overflow:auto;\"><table frame=\"box\" rules=\"cols\">\n",
       "    <tr>\n",
       "        <th style=\"padding-left: 1em; padding-right: 1em; text-align: center\">name</th>\n",
       "        <th style=\"padding-left: 1em; padding-right: 1em; text-align: center\">review</th>\n",
       "        <th style=\"padding-left: 1em; padding-right: 1em; text-align: center\">rating</th>\n",
       "    </tr>\n",
       "    <tr>\n",
       "        <td style=\"padding-left: 1em; padding-right: 1em; text-align: center; vertical-align: top\">Planetwise Flannel Wipes</td>\n",
       "        <td style=\"padding-left: 1em; padding-right: 1em; text-align: center; vertical-align: top\">These flannel wipes are<br>OK, but in my opinion ...</td>\n",
       "        <td style=\"padding-left: 1em; padding-right: 1em; text-align: center; vertical-align: top\">3.0</td>\n",
       "    </tr>\n",
       "    <tr>\n",
       "        <td style=\"padding-left: 1em; padding-right: 1em; text-align: center; vertical-align: top\">Planetwise Wipe Pouch</td>\n",
       "        <td style=\"padding-left: 1em; padding-right: 1em; text-align: center; vertical-align: top\">it came early and was not<br>disappointed. i love ...</td>\n",
       "        <td style=\"padding-left: 1em; padding-right: 1em; text-align: center; vertical-align: top\">5.0</td>\n",
       "    </tr>\n",
       "    <tr>\n",
       "        <td style=\"padding-left: 1em; padding-right: 1em; text-align: center; vertical-align: top\">Annas Dream Full Quilt<br>with 2 Shams ...</td>\n",
       "        <td style=\"padding-left: 1em; padding-right: 1em; text-align: center; vertical-align: top\">Very soft and comfortable<br>and warmer than it ...</td>\n",
       "        <td style=\"padding-left: 1em; padding-right: 1em; text-align: center; vertical-align: top\">5.0</td>\n",
       "    </tr>\n",
       "    <tr>\n",
       "        <td style=\"padding-left: 1em; padding-right: 1em; text-align: center; vertical-align: top\">Stop Pacifier Sucking<br>without tears with ...</td>\n",
       "        <td style=\"padding-left: 1em; padding-right: 1em; text-align: center; vertical-align: top\">This is a product well<br>worth the purchase.  I ...</td>\n",
       "        <td style=\"padding-left: 1em; padding-right: 1em; text-align: center; vertical-align: top\">5.0</td>\n",
       "    </tr>\n",
       "    <tr>\n",
       "        <td style=\"padding-left: 1em; padding-right: 1em; text-align: center; vertical-align: top\">Stop Pacifier Sucking<br>without tears with ...</td>\n",
       "        <td style=\"padding-left: 1em; padding-right: 1em; text-align: center; vertical-align: top\">All of my kids have cried<br>non-stop when I tried to ...</td>\n",
       "        <td style=\"padding-left: 1em; padding-right: 1em; text-align: center; vertical-align: top\">5.0</td>\n",
       "    </tr>\n",
       "    <tr>\n",
       "        <td style=\"padding-left: 1em; padding-right: 1em; text-align: center; vertical-align: top\">Stop Pacifier Sucking<br>without tears with ...</td>\n",
       "        <td style=\"padding-left: 1em; padding-right: 1em; text-align: center; vertical-align: top\">When the Binky Fairy came<br>to our house, we didn't ...</td>\n",
       "        <td style=\"padding-left: 1em; padding-right: 1em; text-align: center; vertical-align: top\">5.0</td>\n",
       "    </tr>\n",
       "    <tr>\n",
       "        <td style=\"padding-left: 1em; padding-right: 1em; text-align: center; vertical-align: top\">A Tale of Baby's Days<br>with Peter Rabbit ...</td>\n",
       "        <td style=\"padding-left: 1em; padding-right: 1em; text-align: center; vertical-align: top\">Lovely book, it's bound<br>tightly so you may no ...</td>\n",
       "        <td style=\"padding-left: 1em; padding-right: 1em; text-align: center; vertical-align: top\">4.0</td>\n",
       "    </tr>\n",
       "    <tr>\n",
       "        <td style=\"padding-left: 1em; padding-right: 1em; text-align: center; vertical-align: top\">Baby Tracker&amp;reg; - Daily<br>Childcare Journal, ...</td>\n",
       "        <td style=\"padding-left: 1em; padding-right: 1em; text-align: center; vertical-align: top\">Perfect for new parents.<br>We were able to keep ...</td>\n",
       "        <td style=\"padding-left: 1em; padding-right: 1em; text-align: center; vertical-align: top\">5.0</td>\n",
       "    </tr>\n",
       "    <tr>\n",
       "        <td style=\"padding-left: 1em; padding-right: 1em; text-align: center; vertical-align: top\">Baby Tracker&amp;reg; - Daily<br>Childcare Journal, ...</td>\n",
       "        <td style=\"padding-left: 1em; padding-right: 1em; text-align: center; vertical-align: top\">A friend of mine pinned<br>this product on Pinte ...</td>\n",
       "        <td style=\"padding-left: 1em; padding-right: 1em; text-align: center; vertical-align: top\">5.0</td>\n",
       "    </tr>\n",
       "    <tr>\n",
       "        <td style=\"padding-left: 1em; padding-right: 1em; text-align: center; vertical-align: top\">Baby Tracker&amp;reg; - Daily<br>Childcare Journal, ...</td>\n",
       "        <td style=\"padding-left: 1em; padding-right: 1em; text-align: center; vertical-align: top\">This has been an easy way<br>for my nanny to record ...</td>\n",
       "        <td style=\"padding-left: 1em; padding-right: 1em; text-align: center; vertical-align: top\">4.0</td>\n",
       "    </tr>\n",
       "</table>\n",
       "[183531 rows x 3 columns]<br/>Note: Only the head of the SFrame is printed.<br/>You can use print_rows(num_rows=m, num_columns=n) to print more rows and columns.\n",
       "</div>"
      ],
      "text/plain": [
       "Columns:\n",
       "\tname\tstr\n",
       "\treview\tstr\n",
       "\trating\tfloat\n",
       "\n",
       "Rows: 183531\n",
       "\n",
       "Data:\n",
       "+-------------------------------+-------------------------------+--------+\n",
       "|              name             |             review            | rating |\n",
       "+-------------------------------+-------------------------------+--------+\n",
       "|    Planetwise Flannel Wipes   | These flannel wipes are OK... |  3.0   |\n",
       "|     Planetwise Wipe Pouch     | it came early and was not ... |  5.0   |\n",
       "| Annas Dream Full Quilt wit... | Very soft and comfortable ... |  5.0   |\n",
       "| Stop Pacifier Sucking with... | This is a product well wor... |  5.0   |\n",
       "| Stop Pacifier Sucking with... | All of my kids have cried ... |  5.0   |\n",
       "| Stop Pacifier Sucking with... | When the Binky Fairy came ... |  5.0   |\n",
       "| A Tale of Baby's Days with... | Lovely book, it's bound ti... |  4.0   |\n",
       "| Baby Tracker&reg; - Daily ... | Perfect for new parents. W... |  5.0   |\n",
       "| Baby Tracker&reg; - Daily ... | A friend of mine pinned th... |  5.0   |\n",
       "| Baby Tracker&reg; - Daily ... | This has been an easy way ... |  4.0   |\n",
       "+-------------------------------+-------------------------------+--------+\n",
       "[183531 rows x 3 columns]\n",
       "Note: Only the head of the SFrame is printed.\n",
       "You can use print_rows(num_rows=m, num_columns=n) to print more rows and columns."
      ]
     },
     "execution_count": 4,
     "metadata": {},
     "output_type": "execute_result"
    }
   ],
   "source": [
    "products"
   ]
  },
  {
   "cell_type": "markdown",
   "metadata": {},
   "source": [
    "## Build the word count vector for each review"
   ]
  },
  {
   "cell_type": "markdown",
   "metadata": {},
   "source": [
    "Let us explore a specific example of a baby product.\n"
   ]
  },
  {
   "cell_type": "code",
   "execution_count": 5,
   "metadata": {
    "collapsed": false
   },
   "outputs": [
    {
     "data": {
      "text/plain": [
       "{'name': 'The First Years Massaging Action Teether',\n",
       " 'rating': 5.0,\n",
       " 'review': 'A favorite in our house!'}"
      ]
     },
     "execution_count": 5,
     "metadata": {},
     "output_type": "execute_result"
    }
   ],
   "source": [
    "products[269]"
   ]
  },
  {
   "cell_type": "markdown",
   "metadata": {},
   "source": [
    "Now, we will perform 2 simple data transformations:\n",
    "\n",
    "1. Remove punctuation using [Python's built-in](https://docs.python.org/2/library/string.html) string functionality.\n",
    "2. Transform the reviews into word-counts.\n",
    "\n",
    "**Aside**. In this notebook, we remove all punctuations for the sake of simplicity. A smarter approach to punctuations would preserve phrases such as \"I'd\", \"would've\", \"hadn't\" and so forth. See [this page](https://www.cis.upenn.edu/~treebank/tokenization.html) for an example of smart handling of punctuations."
   ]
  },
  {
   "cell_type": "code",
   "execution_count": 6,
   "metadata": {
    "collapsed": false
   },
   "outputs": [],
   "source": [
    "def remove_punctuation(text):\n",
    "    import string\n",
    "    return text.translate(None, string.punctuation) \n",
    "\n",
    "review_without_puctuation = products['review'].apply(remove_punctuation)\n",
    "products['word_count'] = graphlab.text_analytics.count_words(review_without_puctuation)"
   ]
  },
  {
   "cell_type": "markdown",
   "metadata": {},
   "source": [
    "Now, let us explore what the sample example above looks like after these 2 transformations. Here, each entry in the **word_count** column is a dictionary where the key is the word and the value is a count of the number of times the word occurs."
   ]
  },
  {
   "cell_type": "code",
   "execution_count": 7,
   "metadata": {
    "collapsed": false
   },
   "outputs": [
    {
     "data": {
      "text/plain": [
       "dtype: dict\n",
       "Rows: 183531\n",
       "[{'and': 5, 'stink': 1, 'because': 1, 'ordered': 1, 'have': 2, 'just': 1, 'replace': 1, 'fab': 1, 'softer': 1, 'are': 3, 'nicer': 1, 'in': 1, 'need': 1, 'been': 1, 'rough': 1, 'quality': 1, 'issues': 1, 'seemed': 1, 'use': 1, 'vimse': 1, 'for': 2, 'to': 2, 'that': 1, 'had': 2, 'months': 1, 'texture': 1, 'also': 1, 'handles': 1, 'someimse': 1, '6': 1, 'no': 1, 'boyfor': 1, 'worth': 1, 'higher': 1, 'them': 1, 'get': 1, 'countwhich': 1, 'about': 1, 'but': 1, 'cloth': 2, 'usingthirsties': 1, '8': 1, 'they': 1, 'hands': 1, 'not': 1, 'now': 1, 'flannel': 1, 'a': 2, 'keeping': 1, 'blue12': 1, 'ok': 1, 'longer': 1, 'these': 1, 'starting': 1, 'larger': 1, 'wipes': 3, 'i': 2, 'while': 1, 'stripping': 1, 'faces': 1, 'wipesocean': 1, 'opinion': 1, 'my': 1, 'pack': 1}, {'and': 3, 'love': 1, 'it': 3, 'highly': 1, 'osocozy': 1, 'bags': 1, 'leak': 1, 'moist': 1, 'does': 1, 'recommend': 1, 'was': 1, 'wipes': 1, 'disappointed': 1, 'early': 1, 'not': 2, 'now': 1, 'holder': 1, 'wipe': 1, 'keps': 1, 'wise': 1, 'i': 1, 'planet': 1, 'my': 2, 'came': 1}, {'and': 2, 'quilt': 1, 'it': 1, 'comfortable': 1, 'warmer': 1, 'size': 1, 'anyone': 1, 'for': 1, 'looking': 1, 'to': 1, 'recommend': 1, 'type': 1, 'full': 1, 'very': 1, 'perfectlywould': 1, 'than': 1, 'this': 1, 'of': 1, 'bed': 1, 'the': 1, 'soft': 1, 'looksfit': 1}, {'and': 3, 'ingenious': 1, 'love': 2, 'is': 4, 'back': 1, 'losing': 1, 'have': 1, 'in': 2, 'rid': 1, 'what': 1, 'her': 1, 'how': 1, 'positive': 1, 'to': 1, 'much': 1, 'it': 1, 'has': 1, 'approach': 2, 'worth': 1, 'product': 2, 'clever': 1, 'tool': 1, 'chart': 1, 'else': 1, 'most': 1, 'ownership': 1, 'artwork': 1, 'not': 1, 'binky': 2, 'little': 1, 'herself': 1, 'fairy': 1, 'a': 2, 'purchase': 1, 'about': 1, 'daughter': 1, 'like': 1, 'anything': 1, 'getting': 1, 'this': 4, 'of': 3, 'proud': 1, 'well': 1, 'i': 3, 'so': 1, 'she': 1, 'loves': 1, 'found': 1, 'the': 7, 'my': 1}, {'and': 2, 'all': 2, 'help': 1, 'cried': 1, 'is': 3, 'it': 1, 'soo': 1, 'an': 1, 'way': 1, 'puppet': 1, 'have': 1, 'pacifier': 2, 'my': 1, 'your': 1, 'tried': 1, 'from': 1, 'for': 2, 'their': 2, 'allow': 1, 'when': 1, 'to': 5, 'book': 2, 'parents': 1, 'easy': 1, 'you': 2, 'save': 1, 'until': 1, 'nonstop': 1, 'them': 4, 'buy': 1, 'ween': 1, 'headachesthanks': 1, 'rock': 1, 'part': 1, 'understand': 1, 'binky': 1, 'with': 1, 'must': 1, 'a': 2, 'going': 1, 'great': 1, 'kids': 2, 'off': 1, 'gift': 1, 'this': 1, 'many': 1, 'work': 1, 'thumbuddy': 1, 'will': 1, 'i': 2, 'expecting': 1, 'itthis': 1, 'loves': 1, 'of': 1, 'found': 1, 'fairy': 1, 'where': 1}, {'and': 2, 'cute': 1, 'help': 2, 'habit': 1, 'house': 1, 'is': 2, 'it': 1, 'highly': 1, 'have': 1, 'pacifier': 2, 'our': 2, 'your': 1, 'special': 1, 'happens': 1, 'comes': 1, 'what': 1, 'thumb': 1, 'would': 1, 'to': 6, 'lots': 1, 'explain': 1, 'doll': 1, 'when': 2, 'any': 2, 'how': 1, 'book': 2, 'recommend': 1, 'adorable': 1, 'product': 1, 'sucking': 1, 'parent': 1, 'stop': 1, 'great': 1, 'movies': 1, 'break': 1, 'we': 2, 'important': 1, 'child': 1, 'telling': 1, 'using': 1, 'binky': 3, 'trying': 1, 'with': 1, 'the': 6, 'a': 2, 'loss': 1, 'about': 2, 'made': 1, 'daughter': 1, 'her': 1, 'gift': 1, 'i': 1, 'of': 2, 'favorite': 1, 'job': 1, 'their': 1, 'this': 2, 'prepare': 1, 'does': 1, 'item': 1, 'fairy': 3, 'didnt': 1, 'or': 1, 'came': 1, 'for': 2}, {'shop': 1, 'be': 1, 'is': 1, 'bound': 1, 'as': 1, 'spaces': 1, 'at': 1, 'in': 1, 'its': 1, 'before': 1, 'from': 1, 'for': 1, 'barnes': 1, 'currently': 1, 'able': 1, 'aside': 1, 'tightly': 1, 'to': 1, 'add': 1, 'book': 2, 'listed': 1, 'photoscards': 1, 'you': 2, 'lovely': 1, 'noble': 1, 'around': 1, 'may': 1, 'designated': 1, 'it': 1, 'not': 1, 'purchase': 1, 'of': 1, '2995': 1, 'so': 1, 'alot': 1, 'the': 2}, {'and': 2, 'all': 1, 'right': 1, 'able': 1, 'it': 1, 'because': 1, 'sleep': 1, 'questions': 1, 'perfect': 1, 'feeding': 1, 'her': 1, 'doctor': 1, 'there': 1, 'when': 1, 'two': 1, 'for': 2, 'to': 1, 'parents': 1, 'new': 1, 'easier': 1, 'life': 2, 'schedule': 1, 'track': 1, 'babys': 1, 'diaper': 1, 'half': 1, 'ask': 1, 'change': 1, 'had': 1, 'a': 1, 'about': 1, 'made': 1, 'would': 1, 'we': 2, 'of': 2, 'months': 1, 'keep': 1, 'habits': 1, 'were': 1, 'the': 2, 'first': 1}, {'and': 1, 'fantastic': 1, 'help': 1, 'give': 1, 'is': 1, 'mine': 1, 'decided': 1, 'are': 1, 'feedings': 1, 'if': 1, 'whirl': 1, 'pinterest': 1, 'pinned': 1, 'to': 1, 'new': 1, 'you': 2, 'friend': 1, 'product': 1, 'parent': 1, 'track': 1, 'it': 2, 'diaper': 1, 'a': 3, 'on': 1, 'like': 1, 'i': 1, 'of': 2, 'keep': 1, 'will': 1, 'this': 2, 'so': 1, 'the': 1, 'changes': 1}, {'all': 1, 'standarad': 1, 'another': 1, 'informed': 1, 'is': 2, 'some': 1, 'preprinted': 1, 'one': 1, 'not': 2, 'isnt': 1, 'because': 1, 'im': 1, 'at': 1, 'have': 1, 'in': 1, 'home': 1, 'happen': 1, 'your': 1, 'out': 1, 'homethe': 1, 'what': 1, 'for': 1, 'record': 1, 'ordering': 1, 'there': 1, 'when': 2, 'been': 2, 'to': 4, 'only': 1, '5': 1, 'easy': 1, 'recommend': 1, 'has': 1, 'events': 1, 'more': 1, 'wants': 1, 'we': 1, 'someone': 1, 'run': 1, 'way': 1, 'stay': 1, 'that': 1, 'journal': 1, 'who': 1, 'it': 1, 'reason': 1, 'nanny': 1, 'key': 1, 'baby': 2, 'highly': 1, 'with': 1, 'pages': 1, 'a': 1, 'on': 1, 'would': 1, 'this': 3, 'of': 2, 'could': 1, 'youre': 1, 'up': 1, 'optionsi': 1, 'i': 1, 'while': 1, 'an': 1, 'the': 1, 'my': 2, 'think': 1, 'plan': 1}, {'all': 2, 'nannys': 1, 'just': 1, 'sleep': 2, 'milk': 1, 'weekly': 1, 'now': 1, 'layout': 1, 'also': 1, 'had': 1, 'hot': 1, 'rash': 1, 'to': 11, 'add': 1, 'easy': 1, 'has': 2, 'real': 1, 'activities': 1, 'complaint': 1, 'food': 1, 'overall': 1, 'rush': 1, 'lunch': 1, 'walk': 1, 'day': 1, 'instructions': 1, 'notes': 2, 'morning': 1, 'leave': 1, 'she': 3, 'night': 1, 'often': 1, 'back': 1, 'design': 1, 'our': 2, 'out': 1, 'what': 1, 'for': 2, 'space': 1, 'sun': 1, 'please': 1, 'comments': 2, 'its': 1, 'tracker': 1, 'reply': 1, 'previous': 1, 'screen': 1, 'knowing': 1, 'we': 1, 'eating': 1, 'schedule': 1, 'journal': 1, 'communicate': 1, 'nanny': 3, 'ask': 1, 'on': 3, 'about': 1, 'column': 1, 'of': 4, 'etc': 2, 'amount': 1, 'postits': 1, 'changes': 1, 'or': 2, 'love': 2, 'highly': 1, 'specifics': 1, 'forget': 1, 'andor': 1, 'use': 2, 'her': 2, 'there': 1, 'only': 1, 'quickly': 1, 'recommend': 1, 'tell': 1, 'today': 1, 'naturally': 1, 'that': 2, 'park': 1, 'took': 1, 'stick': 1, 'baby': 4, 'didnt': 1, 'with': 1, 'specify': 1, 'babys': 2, 'this': 2, 'my': 2, 'and': 5, 'is': 2, 'moved': 1, 'it': 3, 'as': 2, 'want': 1, 'in': 5, 'ie': 3, 'everyday': 1, 'fill': 1, 'timetummy': 1, 'no': 1, 'make': 1, 'very': 1, 'nap': 1, 'other': 2, 'details': 2, 'gets': 1, 'daughters': 1, 'play': 1, 'track': 2, 'uses': 1, 'oldermy': 1, 'a': 1, 'i': 7, 'sometimes': 1, 'well': 1, 'patterns': 1, 'time': 2, 'the': 9}, {'and': 1, 'plus': 1, 'is': 1, 'in': 1, 'back': 1, 'sleep': 1, 'feedings': 1, 'its': 1, 'perfect': 1, 'would': 1, 'doctor': 1, 'to': 1, 'enough': 1, 'book': 2, 'easy': 1, 'recommend': 1, 'new': 2, 'that': 1, 'moms': 1, 'visits': 1, 'it': 1, 'track': 1, 'diaper': 2, 'mom': 1, 'throw': 1, 'a': 1, 'made': 1, 'for': 2, 'i': 1, 'of': 1, 'keep': 1, 'this': 3, 'definitely': 1, 'so': 1, 'time': 1, 'small': 1, 'im': 1, 'the': 1, 'changes': 1, 'first': 1}, {'all': 1, 'just': 1, 'not': 1, 'isnt': 1, 'paper': 1, '6pm': 2, 'useful': 1, 'its': 1, 'before': 1, 'perfect': 2, 'fit': 1, 'how': 2, 'pouch': 1, 'him': 1, 'better': 1, 'to': 9, 'only': 1, 'pretty': 2, 'has': 1, 'gave': 1, 'real': 1, 'me': 2, 'complaint': 1, '7': 2, 'emergency': 1, 'get': 1, 'very': 1, 'big': 1, 'they': 1, 'incompleteinaccurate': 1, 'front': 1, 'now': 1, 'complain': 1, 'entire': 1, 'helpful': 1, 'daycarenannycaregiver': 1, 'solution': 1, 'try': 1, 'she': 4, 'each': 1, 'small': 1, 'works': 1, 'page': 1, 'because': 1, 'deal': 1, 'wohld': 1, 'some': 2, 'home': 1, 'out': 1, 'provided': 1, 'for': 7, 'space': 2, 'section': 1, 'behind': 1, 'goes': 1, 'ends': 1, 'little': 2, 'reported': 1, 'nanny': 2, 'wanted': 3, 'on': 1, 'about': 1, 'her': 1, 'getting': 2, 'of': 6, 'could': 1, 'changes': 1, 'control': 1, 'shorthand': 1, 'app': 1, 'one': 1, 'down': 1, 'use': 2, 'from': 2, 'additional': 1, 'would': 2, 'transfer': 1, 'there': 1, 'two': 1, 'much': 1, 'too': 1, 'way': 1, '6': 2, 'was': 2, 'park': 1, 'but': 2, 'phone': 2, 'baby': 1, 'with': 2, 'info': 3, 'this': 5, 'leave': 1, 'originally': 1, 'up': 1, 'reviews': 1, 'suppose': 1, 'starts': 1, 'situation': 1, 'problem': 1, 'my': 4, 'example': 1, 'napsfeedingsdiaper': 1, 'at': 2, 'and': 5, 'is': 3, 'it': 2, 'an': 2, 'im': 2, 'something': 1, 'have': 1, 'in': 1, 'if': 1, 'information': 4, 'documents': 1, 'end': 1, 'provide': 1, 'format': 1, 'when': 2, 'write': 1, 'also': 3, 'other': 1, 'pad': 2, 'take': 2, 'you': 2, 'fill': 1, 'day': 2, 'difficult': 1, 'track': 1, 'notebook': 1, 'pages': 1, 'a': 8, '7am': 2, 'tracking': 1, 'remember': 1, 'i': 7, 'contact': 1, 'time': 1, 'the': 15}, {'breastfeeding': 1, 'all': 1, 'forget': 1, 'just': 1, 'able': 1, 'month': 1, 'sleep': 2, 'its': 1, 'perfect': 1, 'how': 1, 'pen': 1, 'better': 1, 'to': 5, 'grab': 1, 'hit': 1, 'every': 1, 'not': 1, 'him': 1, 'like': 1, 'helpful': 1, 'serves': 1, 'morning': 1, 'button3': 1, 'either': 1, 'havent': 1, 'side': 2, 'often': 2, 'been': 1, 'are': 2, 'close': 1, 'really': 1, 'what': 2, 'perverse': 1, 'for': 2, 'heres': 1, 'time2': 1, 'consistently': 1, '3': 1, 'nurse': 1, 'handwritten': 1, 'be': 1, 'we': 3, 'journal': 1, 'by': 1, 'both': 1, 'about': 1, 'feeling': 1, 'last': 1, 'deprived': 1, 'taking': 1, 'keep': 1, 'thing': 1, 'place': 1, 'or': 1, 'useful': 1, 'dont': 1, 'simple': 1, 'app': 2, 'skilled': 1, 'yourself': 1, 'satisfaction': 1, 'long': 1, 'feedings': 1, '177': 1, 'your': 2, 'would': 1, 'least': 2, 'why1': 1, 'start': 1, 'tell': 2, 'gives': 1, 'that': 4, 'started': 2, 'training': 1, 'but': 2, 'phone': 2, 'baby': 1, 'with': 1, 'than': 2, 'me': 5, 'keeping': 1, 'look': 1, 'this': 2, 'entertained': 1, 'can': 3, 'of': 1, 'more': 1, 'example': 1, 'connect': 1, 'and': 4, 'it': 3, 'as': 1, 'im': 1, 'at': 5, 'have': 5, 'in': 2, 'times': 1, 'id': 1, 'nursed': 1, 'no': 1, 'granted': 1, 'when': 1, 'same': 1, 'also': 1, 'other': 1, 'you': 3, 'if': 1, 'nice': 2, 'used': 1, 'notebook': 1, 'purpose': 1, 'on': 3, 'data': 1, 'a': 5, 'mindlessly': 1, 'i': 8, 'average': 1, 'youre': 2, 'think': 1, 'thought': 1, 'so': 2, 'time': 1, 'the': 4}, {'info': 1, 'and': 1, 'what': 1, 'useful': 1, 'for': 1, 'space': 1, 'i': 1, 'come': 1, 'is': 1, 'exactly': 1, 'with': 1, 'it': 2, 'photos': 1, 'a': 1, 'lot': 1, 'of': 1, 'wanted': 1, 'stickers': 1, 'monthly': 1}, {'and': 3, 'useful': 1, 'calender': 2, 'just': 1, 'be': 1, 'well': 1, 'is': 3, 'some': 1, 'it': 3, 'whatever': 1, 'height': 1, 'date': 1, 'as': 4, 'likes': 1, 'have': 2, 'writing': 1, 'fine': 1, 'event': 1, 'special': 1, 'before': 1, 'one': 1, 'what': 1, 'weight': 1, 'would': 1, 'also': 1, 'not': 1, 'stickers': 1, 'there': 1, 'for': 5, 'write': 1, 'to': 3, 'only': 1, 'does': 1, 'asterisks': 1, 'photo': 1, 'has': 1, 'sticker': 1, 'friend': 1, 'happened': 1, 'do': 1, 'complaint': 1, 'placed': 1, 'colorful': 1, 'that': 2, 'very': 2, 'but': 1, 'boxes': 1, 'baby': 1, 'son': 1, 'day': 1, 'room': 3, 'a': 3, 'on': 2, 'myself': 1, 'like': 1, 'i': 4, 'many': 1, 'put': 1, 'second': 1, 'this': 1, 'she': 1, 'each': 2, 'found': 1, 'the': 1, 'bought': 2, 'my': 2, 'page': 2}, {'and': 1, 'babys': 1, 'love': 1, 'like': 1, 'i': 2, 'little': 1, 'all': 1, 'keep': 1, 'this': 1, 'track': 1, 'too': 1, 'calender': 1, 'of': 2, 'illustrations': 1, 'you': 1, 'firsts': 1, 'stickers': 1, 'the': 2, 'can': 1}, {'and': 1, 'this': 2, 'note': 1, 'one': 3, 'second': 1, 'are': 1, 'calender': 1, 'year': 2, 'still': 1, 'find': 1, 'better': 1, 'for': 2, 'things': 1, 'there': 1, 'him': 1, '1': 1, 'to': 2, 'only': 1, 'got': 1, 'cause': 1, 'was': 2, 'after': 1, 'they': 1, 'wanted': 1, 'than': 1, 'i': 3, 'many': 1, 'could': 1, 'turn': 1, 'continue': 1, 'so': 1, 'did': 1, 'the': 4, 'first': 2}, {'and': 5, 'all': 3, 'want': 1, 'doing': 1, 'in': 1, 'it': 1, 'second': 1, 'something': 1, 'have': 1, 'year': 2, 'calendar': 2, 'still': 1, 'stickers': 1, 'enjoyed': 1, 'special': 2, 'really': 2, 'layout': 1, 'for': 1, 'to': 2, 'things': 1, 'since': 1, 'least': 1, 'its': 1, 'moments': 2, 'amazing': 1, 'much': 1, 'you': 1, 'might': 1, 'completed': 1, 'his': 1, 'that': 1, 'questions': 1, 'fun': 1, 'sons': 1, 'every': 1, 'milestone': 1, 'not': 1, 'wanted': 1, 'day': 1, 'those': 1, 'a': 1, 'tracking': 1, 'like': 1, 'i': 3, 'of': 2, 'hes': 1, 'simple': 1, 'keep': 1, 'recording': 1, 'while': 1, 'continue': 1, 'so': 2, 'milestones': 1, 'at': 1, 'the': 4, 'my': 1, 'first': 1}, {'and': 2, 'cute': 1, 'childs': 1, 'is': 1, 'something': 1, 'our': 1, 'keep': 1, 'out': 1, 'what': 1, 'there': 2, 'to': 2, 'does': 1, 'we': 2, 'option': 1, 'get': 1, 'track': 1, 'exactly': 1, 'wanted': 2, 'a': 1, 'milestones': 1, 'this': 2, 'of': 1, 'choices': 1, 'arent': 1, 'many': 1, 'other': 1}, {'and': 3, 'all': 1, 'months': 1, 'reference': 1, 'do': 2, 'milestonesand': 1, 'is': 3, 'hard': 1, 'some': 1, 'it': 2, 'one': 1, 'down': 1, 'put': 1, 'as': 2, 'vs': 1, 'have': 1, 'year': 1, 'calendar': 2, 'find': 1, 'out': 1, 'little': 1, 'to': 5, 'memories': 1, 'had': 1, 'two': 1, 'write': 1, 'everything': 1, 'enough': 1, 'book': 2, 'way': 1, 'finding': 1, 'you': 1, 'fill': 1, 'across': 1, 'picture': 1, 'only': 1, 'jot': 1, 'squares': 1, 'that': 1, 'track': 1, 'big': 1, 'spot': 1, 'much': 1, 'ones': 1, 'they': 1, 'baby': 2, 'years': 1, 'change': 1, 'a': 6, 'on': 1, 'great': 2, 'has': 1, 'in': 2, 'like': 1, 'this': 3, 'of': 1, 'later': 1, 'well': 1, 'second': 1, 'keep': 1, 'large': 1, 'i': 5, 'easier': 1, 'so': 3, 'can': 2, 'time': 1, 'the': 5, 'came': 1, 'first': 1}, {'and': 1, 'cute': 1, 'because': 2, 'just': 1, 'certain': 1, 'is': 1, 'lack': 1, 'some': 1, 'it': 2, 'one': 3, 'finish': 1, 'are': 1, 'purchased': 1, 'in': 1, 'calendar': 2, 'stickers': 1, 'its': 1, 'really': 1, 'write': 1, 'purchasers': 1, 'pens': 1, 'secondyear': 2, 'oldfashioned': 1, 'general': 1, 'come': 1, 'had': 1, 'looking': 1, 'to': 1, 'only': 2, 'other': 1, 'pretty': 1, 'hopefully': 1, 'selection': 1, 'got': 1, 'out': 1, 'was': 2, 'an': 1, 'glossy': 1, 'available': 1, 'hard': 1, 'okay': 1, 'which': 1, 'with': 3, 'calendars': 2, 'ones': 1, 'makes': 1, 'they': 1, 'son': 1, 'disappointed': 1, 'pages': 2, 'a': 1, 'on': 2, 'daughter': 1, 'for': 4, 'i': 4, 'of': 2, 'will': 1, 'this': 1, 'future': 1, 'so': 1, 'arent': 1, 'very': 1, 'the': 6, 'my': 2}, {'and': 4, 'cute': 1, 'own': 1, 'love': 1, 'reocording': 1, 'just': 1, 'is': 2, 'year': 4, 'one': 1, 'helped': 1, 'not': 1, 'second': 2, 'are': 2, 'want': 1, '1st': 1, 'on': 2, 'calendar': 3, 'stickers': 1, 'its': 1, 'out': 1, 'perfect': 1, 'recording': 1, 'now': 1, 'continuing': 1, 'for': 3, 'with': 1, 'there': 2, 'to': 2, 'wonderful': 1, 'lullabies': 1, 'recommend': 1, 'might': 1, 'events': 2, 'life': 1, 'his': 1, 'that': 2, 'stop': 1, 'natures': 1, 'calendars': 1, 'sons': 1, 'plenty': 1, 'baby': 1, 'didnt': 1, 'highly': 1, 'super': 1, 'he': 1, 'me': 1, 'loved': 1, 'keeping': 1, 'milestones': 1, 'brat': 1, 'i': 4, 'gender': 1, 'this': 2, 'daily': 1, 'thought': 1, 'record': 2, 'plus': 1, 'either': 1, 'have': 1, 'of': 6, 'the': 1, 'my': 2, 'think': 1, 'first': 1}, {'just': 1, 'is': 1, 'cheap': 2, 'it': 2, 'as': 1, 'are': 1, 'calendar': 1, 'stickers': 1, 'find': 1, 'use': 1, 'described': 1, 'lots': 1, 'there': 1, 'to': 2, 'was': 1, 'nice': 1, 'be': 1, 'very': 1, 'exactly': 1, 'but': 1, 'disappointed': 1, 'look': 1, 'i': 2, 'of': 2, 'so': 1, 'the': 1, 'looks': 1}, {'and': 2, 'dont': 1, 'just': 1, 'sticker': 1, 'option': 1, 'it': 1, 'down': 1, 'as': 1, 'spaces': 1, 'calender': 1, 'actually': 1, 'firsts': 1, 'stickers': 1, 'out': 1, 'use': 1, 'for': 3, 'sit': 1, 'scrap': 1, 'mark': 1, 'to': 3, 'enough': 1, 'ton': 1, 'supplies': 1, 'scrapbook': 1, 'borders': 1, 'is': 1, 'booking': 1, 'easy': 1, 'very': 1, 'who': 1, 'new': 1, 'includes': 1, 'photos': 2, 'haul': 1, 'lot': 1, 'milestone': 1, 'with': 1, 'a': 3, 'moms': 1, 'especially': 1, 'wife': 1, 'this': 1, 'of': 2, 'well': 1, 'etc': 1, 'have': 1, 'loves': 1, 'time': 1, 'the': 1, 'options': 1, 'comes': 1}, {'and': 2, 'work': 1, 'old': 1, 'sweet': 1, 'over': 1, '1st': 1, 'it': 1, 'son': 1, 'second': 1, 'thanks': 1, 'year': 3, 'tender': 1, 'art': 1, 'calendar': 2, 'stickers': 1, 'fill': 2, 'i': 1, 'her': 3, 'record': 1, 'get': 1, 'had': 1, 'looking': 1, 'to': 4, 'wonderful': 1, 'able': 1, 'was': 3, 'nice': 1, 'a': 6, 'his': 2, 'keepsake': 1, 'nearing': 1, 'oneyear': 1, 'amazon': 1, 'birthday': 1, 'baby': 1, 'unique': 1, 'pages': 1, 'helpful': 1, 'ago': 1, 'milestones': 1, 'daughter': 1, 'for': 3, 'gift': 1, 'this': 1, 'when': 1, 'up': 1, 'receive': 1, 'she': 3, 'loves': 1, 'did': 1, 'my': 1, 'first': 2}, {'remembering': 1, 'and': 1, 'useful': 1, 'tired': 1, 'helped': 1, 'baby': 1, 'as': 1, 'through': 1, 'two': 1, 'long': 1, 'how': 1, 'new': 1, 'a': 1, 'me': 1, 'mom': 1, 'not': 1, 'extremely': 1, 'ago': 1, 'ate': 1, 'inexpedient': 1, 'this': 1, 'months': 1, 'definitely': 1, 'the': 1, 'first': 1}, {'and': 4, 'does': 1, 'right': 1, 'just': 2, 'peek': 1, 'when': 2, 'pretend': 1, 'it': 2, 'son': 1, 'hair': 1, 'shakes': 1, 'through': 1, 'at': 2, 'mirror': 1, 'if': 2, 'perfect': 1, 'thought': 1, 'end': 1, 'takes': 1, 'would': 1, 'hes': 1, 'make': 1, 'show': 1, 'seems': 1, 'also': 1, 'enough': 1, 'book': 4, '9': 1, 'blowkisses': 1, 'be': 1, 'his': 1, 'around': 1, 'though': 1, 'facemaybe': 1, 'however': 1, 'but': 1, 'gestures': 1, 'most': 1, 'fan': 1, 'hands': 1, 'front': 1, 'now': 1, 'with': 1, 'him': 2, 'he': 5, 'a': 1, 'peekaboo': 1, 'engage': 1, 'like': 1, 'older': 1, 'i': 4, 'of': 1, 'age': 1, 'months': 1, 'cover': 2, 'flip': 2, 'will': 1, 'this': 3, 'doesnt': 1, 'so': 1, 'flaps': 1, 'loves': 1, 'boo': 1, 'the': 10, 'my': 1, 'towards': 1, 'likes': 2}, {'and': 2, 'because': 1, 'family': 1, 'people': 1, 'is': 1, 'some': 1, 'it': 1, 'one': 1, 'see': 1, 'books': 1, 'in': 1, 'star': 1, 'your': 1, 'perfect': 1, 'washable': 1, 'just': 1, 'less': 1, 'id': 1, '1': 1, 'to': 1, 'white': 1, 'gave': 1, 'diversity': 1, 'not': 1, 'than': 1, 'babys': 1, 'like': 1, 'i': 1, 'of': 1, 'favorite': 1, 'the': 1, 'typical': 1, 'first': 1}, {'family': 1, 'over': 1, 'it': 2, 'seat': 1, 'hook': 1, 'go': 1, 'your': 1, 'attach': 1, 'to': 3, 'book': 1, 'way': 1, 'has': 1, 'wont': 1, 'get': 1, 'how': 1, 'members': 1, 'a': 1, 'great': 1, 'like': 1, 'lost': 1, 'i': 1, 'car': 1, 'stroller': 1, 'the': 1, 'or': 1}, {'beautiful': 1, 'saying': 1, 'love': 1, 'it': 2, 'are': 1, 'little': 2, 'interacting': 1, 'youkeeps': 1, 'when': 1, 'actually': 1, 'to': 1, 'book': 1, 'you': 1, 'then': 1, 'attention': 1, 'story': 1, 'and': 2, 'finished': 1, 'baby': 2, 'hold': 1, 'with': 1, 'pages': 1, 'a': 1, 'on': 1, 'great': 1, 'short': 1, 'i': 1, 'of': 1, 'turn': 1, 'can': 1, 'the': 4}, {'and': 1, 'cute': 1, 'says': 1, 'money': 1, 'is': 1, 'it': 2, 'born': 1, 'cant': 1, 'are': 1, 'open': 1, 'its': 1, 'before': 1, 'use': 1, 'for': 1, 'there': 1, 'to': 4, 'book': 1, '9': 1, 'worth': 1, 'be': 1, 'very': 1, 'but': 1, 'every': 1, 'baby': 1, 'wait': 1, 'box': 1, 'on': 2, 'this': 1, 'months': 1, 'try': 1, 'i': 1, 'so': 2, 'flaps': 1, 'the': 2, 'my': 1, 'page': 1, 'interactive': 1}, {'and': 3, 'chew': 1, 'all': 1, 'love': 1, 'just': 1, 'can': 2, 'simple': 1, 'house': 1, 'mommy': 1, 'it': 7, 'rip': 1, 'one': 1, 'carry': 1, 'cant': 1, 'paper': 1, 'learning': 1, 'chunks': 1, 'our': 1, 'open': 1, 'its': 1, 'out': 1, 'little': 1, 'for': 1, 'bite': 1, 'book': 2, 'board': 1, 'got': 1, 'puppy': 1, 'over': 1, 'nice': 1, 'we': 2, 'that': 2, 'words': 1, 'oneyearold': 1, 'is': 1, 'pull': 1, 'a': 2, 'on': 2, 'like': 3, 'this': 1, 'of': 1, 'flaps': 1, 'etc': 1, 'so': 1, 'she': 5, 'loves': 2, 'the': 2, 'daddy': 1, 'or': 1}, {'and': 2, 'andor': 1, 'is': 2, '6months': 1, 'in': 1, 'perfect': 1, 'for': 1, 'detergent': 1, 'only': 1, 'book': 2, 'was': 1, 'then': 1, 'colorful': 1, 'material': 1, 'let': 1, 'dunked': 1, 'strong': 1, 'pages': 1, 'dry': 1, 'like': 1, 'older': 1, 'i': 2, 'smell': 1, 'overnight': 1, 'thing': 1, 'of': 1, 'dyes': 1, 'the': 6, 'didnt': 1}, {'and': 3, 'cute': 1, 'family': 1, 'is': 1, 'some': 1, 'we': 1, 'feelings': 1, 'hair': 1, 'are': 1, 'our': 1, 'out': 1, 'huge': 1, 'little': 1, 'said': 1, 'no': 1, 'to': 1, 'fans': 1, 'book': 1, 'cause': 1, 'can': 1, 'play': 1, 'that': 1, 'however': 1, 'lamaze': 1, 'hurt': 1, 'possibly': 1, 'members': 1, 'hands': 1, 'baby': 1, 'one': 1, 'with': 1, 'this': 1, 'of': 1, 'leaves': 1, 'brother': 1, 'products': 1, 'flaps': 1, 'loves': 1, 'the': 2}, {'booka': 1, 'is': 1, 'books': 2, 'another': 1, 'couldnt': 1, 'plastic': 1, 'your': 1, 'flap': 1, 'perfect': 1, 'olds': 1, 'or': 2, 'adds': 1, 'for': 3, 'damaged': 1, 'been': 1, 'id': 1, 'looking': 1, 'to': 1, 'book': 3, 'babies': 1, 'be': 1, 'which': 1, 'droolso': 1, '10month': 1, 'what': 1, 'cloth': 2, 'part': 1, 'every': 1, 'baby': 1, 'by': 1, 'a': 1, 'on': 1, 'great': 1, 'level': 1, 'this': 2, 'page': 1, 'were': 1, 'fun': 1, 'moving': 1, 'usual': 1, 'my': 3, 'options': 1, 'interactive': 1}, {'all': 1, 'being': 1, 'infant': 1, 'course': 1, 'still': 1, 'perfect': 1, 'now': 2, 'parenti': 1, 'to': 1, 'only': 2, 'board': 1, 'teaching': 1, 'them': 1, 'his': 2, 'lamaze': 2, 'nearly': 1, 'they': 1, 'not': 2, 'one': 2, 'like': 1, 'enjoy': 1, 'chew': 1, 'because': 1, 'series': 1, 'books': 2, 'are': 2, 'out': 1, 'for': 4, 'does': 1, 'reading': 1, 'issue': 1, 'discovery': 1, 'peek': 1, 'we': 2, 'grandparents': 1, 'of': 3, 'members': 1, 'on': 1, 'sister': 1, 'my': 3, 'etc': 1, 'boo': 1, 'liked': 1, 'love': 1, 'family': 1, 'son': 3, 'doesnt': 1, 'names': 1, 'additional': 1, 'would': 1, 'hes': 1, 'two': 1, 'much': 1, 'lot': 1, 'was': 3, 'flap': 1, 'that': 3, 'about': 1, 'but': 4, 'lift': 1, 'child': 1, 'with': 2, 'he': 3, 'loved': 1, 'look': 1, 'this': 4, 'as': 3, 'cat': 1, 'learn': 1, 'fun': 2, 'didnt': 1, 'and': 6, 'it': 6, 'an': 1, 'say': 1, 'at': 1, 'have': 1, 'id': 1, 'again': 1, 'book': 3, 'destroy': 1, 'used': 1, 'farm': 1, 'favorites': 1, 'a': 3, 'i': 1, 'well': 1, 'dog': 1, 'the': 5, 'playing': 1}, {'and': 1, 'own': 1, 'it': 3, 'our': 1, 'for': 1, 'when': 1, 'to': 1, 'book': 1, 'enjoys': 2, 'has': 1, 'his': 1, 'loved': 1, 'read': 1, 'baby': 1, 'now': 1, 'with': 1, 'him': 1, 'he': 1, 'a': 1, 'on': 1, 'i': 1, 'this': 1, 'while': 1, 'loves': 1, 'playing': 1}, {}, {'a': 1, 'brushing': 1, 'play': 1, 'kids': 1, 'almost': 1, 'with': 1, 'teeth': 1, 'haha': 1, 'too': 1, 'son': 1, 'to': 1, 'book': 1, 'let': 1, 'likes': 1, 'of': 1, 'the': 1, 'elmos': 1, 'my': 1, 'nice': 1}, {'and': 3, 'imaginative': 1, 'old': 1, 'it': 2, 'through': 1, 'are': 1, 'year': 1, 'go': 1, 'love': 1, 'children': 1, 'again': 1, 'would': 1, 'sit': 1, 'pictures': 1, 'young': 1, 'to': 1, 'book': 1, 'themselves': 1, 'appeal': 1, 'was': 1, 'buy': 1, 'grandchildren': 1, 'birthday': 1, 'they': 1, '2': 1, 'by': 1, 'present': 1, 'a': 1, 'for': 1, 'this': 2, 'will': 1, 'the': 1, 'my': 1, 'page': 2}, {'and': 3, 'cute': 1, 'rating': 1, 'disappointmentits': 1, 'just': 1, 'give': 1, 'battery': 1, 'is': 1, 'it': 6, 'dead': 1, 'down': 1, 'batteries': 1, 'growled': 1, 'something': 1, 'have': 1, 'in': 1, 'cant': 1, 'handle': 1, '5': 1, 'saw': 1, 'find': 1, 'simple': 1, 'if': 2, 'even': 1, 'would': 2, 'no': 1, 'super': 1, 'absolutely': 1, 'when': 1, 'actually': 1, 'to': 4, 'going': 1, 'kenzie': 1, 'take': 1, 'mail': 1, 'giggled': 1, 'adorable': 1, 'excited': 1, 'star': 1, 'was': 3, 'granddaughter': 1, 'bear': 1, 'back': 1, 'its': 1, 'but': 1, 'got': 1, 'such': 1, 'now': 1, 'new': 1, 'day': 1, 'a': 4, 'like': 1, 'gift': 1, 'this': 1, 'my': 1, 'could': 1, 'as': 2, 'i': 6, 'suppose': 1, 'place': 1, 'how': 1, 'the': 3, 'other': 1, 'where': 1, 'or': 1}, {'and': 4, 'all': 1, 'right': 1, 'streetelmo': 1, 'hides': 1, 'elmo': 4, 'absolutely': 1, 'is': 5, 'each': 1, 'it': 2, 'one': 1, 'illustrated': 1, 'featured': 1, 'street': 1, 'im': 1, 'are': 1, 'another': 1, 'beautifully': 1, 'seemed': 1, 'perfect': 1, 'sesame': 2, 'little': 1, 'lovers': 1, 'because': 1, 'takes': 1, 'for': 3, 'twinkle': 2, 'would': 1, 'character': 1, 'also': 2, 'book': 3, 'too': 1, 'which': 2, 'recommend': 1, 'main': 1, 'was': 1, 'nice': 1, 'available': 1, 'centric': 1, 'to': 1, 'that': 1, 'price': 1, 'time': 1, 'reads': 1, 'amazon': 1, 'everywhere': 1, 'characters': 1, 'baby': 1, 'he': 1, 'a': 1, 'on': 2, 'great': 2, 'her': 1, 'i': 2, 'soft': 1, 'say': 1, 'other': 1, 'this': 2, 'while': 1, 'so': 2, 'loves': 1, 'of': 2, 'fun': 1, 'the': 3, 'happy': 1, 'my': 2, 'page': 1, 'interactive': 1}, {'beautiful': 1, 'and': 2, 'love': 1, 'elmo': 1, 'is': 1, 'colors': 1, 'doesnt': 1, 'are': 1, 'showers': 1, 'lastly': 1, 'any': 1, 'for': 2, 'two': 1, 'book': 1, 'bought': 1, 'who': 1, 'baby': 2, 'recent': 1, 'great': 1, 'i': 1, 'bright': 1, 'the': 2, 'soft': 1, 'interactive': 1}, {'and': 2, 'another': 1, 'elmo': 1, 'is': 2, 'one': 1, 'books': 1, 'softplay': 1, 'birds': 1, 'variety': 1, 'two': 1, 'creative': 1, 'to': 1, 'only': 1, 'book': 3, 'has': 1, 'bird': 1, 'more': 2, 'we': 2, 'get': 1, 'big': 2, 'but': 1, 'wanted': 1, 'friends': 1, 'like': 1, 'this': 1, 'fun': 1, 'found': 1, 'the': 3}, {'and': 1, 'a': 1, 'peekaboo': 1, 'handle': 1, 'for': 1, 'cute': 1, 'this': 1, 'is': 2, 'safe': 1, 'it': 1, 'to': 1, 'book': 1, 'easy': 1, 'baby': 1, 'little': 1, 'story': 1, 'soft': 1, 'its': 2}, {'and': 7, 'old': 1, 'elmo': 1, 'is': 1, 'laughs': 1, 'it': 2, 'son': 1, 'say': 1, 'books': 1, 'have': 1, 'find': 1, 'different': 1, '34peekaboo': 1, 'for': 1, 'few': 1, 'to': 1, '3': 1, 'book': 1, '5': 1, 'stars': 1, 'over': 2, 'smiles': 1, 'we': 3, 'sure': 1, 'colorful': 1, 'read': 2, 'most': 1, 'every': 1, 'baby': 1, 'month': 1, 'elmo34': 1, 'he': 1, 'a': 1, 'adores': 1, 'this': 2, 'my': 1, 'so': 1, 'loves': 1, 'time': 1, 'fun': 1, 'the': 1, 'soft': 1}, {'cute': 1, 'great': 1, 'colorful': 1, 'for': 1, 'very': 1, 'make': 1, 'toddlers': 1, 'this': 2, 'bright': 1, 'book': 2, 'loves': 1, 'babies': 1, 'illustrations': 1, 'the': 1, 'son': 1, 'my': 1, 'interactive': 1}, {'and': 2, 'all': 1, 'love': 2, 'kiss': 1, 'elmo': 2, 'over': 1, 'play': 1, 'high': 1, 'as': 1, 'are': 3, 'still': 1, 'if': 1, 'use': 1, 'for': 1, 'how': 1, 'before': 1, 'when': 2, 'two': 1, 'to': 2, 'book': 1, '9': 1, 'got': 1, 'reading': 1, 'bought': 1, 'we': 1, 'buy': 1, 'blocks': 1, 'mos': 1, 'safe': 1, 'it': 1, 'were': 1, 'them': 4, 'granddauchildren': 1, 'they': 8, 'fall': 1, 'baby': 1, 'now': 1, 'with': 2, 'stack': 1, 'present': 1, 'a': 1, 'on': 1, 'i': 1, 'see': 1, 'so': 1, 'can': 1, 'time': 1, 'fun': 1, 'falls': 1, 'the': 4, 'soft': 1, 'having': 1}, {'and': 5, 'chew': 1, 'all': 1, 'have': 1, 'over': 2, 'rolling': 1, 'teething': 1, 'letting': 1, 'for': 3, 'to': 2, 'their': 1, 'encourage': 1, 'setting': 1, 'ruining': 1, 'babies': 1, 'christmas': 1, 'them': 3, 'great': 3, 'crawling': 1, 'about': 1, 'break': 1, 'they': 1, 'baby': 1, 'entertaining': 1, 'bank': 1, 'younger': 1, 'off': 1, 'gift': 1, 'i': 1, 'worrying': 1, 'droll': 1, 'these': 1, 'without': 1, 'were': 2, 'the': 4, 'didnt': 1, 'side': 1}, {'a': 1, 'money': 1, 'would': 1, 'to': 1, 'i': 1, 'of': 1, 'is': 2, 'granddaughter': 1, 'it': 2, 'boring': 1, 'this': 1, 'book': 1, 'nothing': 1, 'recommend': 1, 'not': 1, 'waste': 1, 'my': 1, 'stimulate': 1}, {'fantastic': 1, 'old': 1, 'want': 1, 'show': 1, 'is': 3, 'hard': 1, 'it': 1, 'one': 1, 'not': 1, 'lion': 3, 'books': 1, 'looks': 1, 'have': 1, 'year': 1, 'images': 1, 'our': 1, 'find': 1, 'looking': 1, 'what': 3, 'unrealistic': 1, '1': 1, 'to': 2, 'real': 2, 'them': 1, 'that': 1, 'portrayals': 1, 'exactly': 1, 'but': 1, 'cloth': 1, 'we': 3, 'were': 1, 'nothing': 1, 'teach': 1, 'with': 1, 'him': 1, 'like': 2, 'a': 4, 'on': 1, 'actual': 1, 'look': 1, 'forwhen': 1, 'this': 1, 'of': 1, 'animalsobjects': 1, 'so': 2, 'many': 1, 'drawing': 1}, {'is': 1, 'something': 1, 'little': 1, 'for': 1, 'no': 1, 'memories': 1, 'there': 1, 'young': 1, 'reading': 1, 'destroyingmany': 1, 'happy': 2, 'them': 1, 'very': 1, 'chance': 1, 'they': 1, 'child': 1, 'cuteso': 1, 'of': 1, '34': 1, 'can': 1, 'read34': 1, 'the': 1, 'or': 1}, {'cute': 1, 'old': 1, 'to': 1, '1year': 1, 'i': 1, 'interesting': 1, 'bad': 1, 'anyway': 1, 'texture': 1, 'mot': 1, 'thought': 1, 'etc': 1, 'as': 2, 'but': 2, 'not': 2, 'my': 1, 'interactive': 1}, {'and': 1, 'be': 1, 'great': 1, 'love': 1, 'daughter': 1, 'this': 1, 'when': 1, 'it': 1, 'me': 1, 'will': 1, 'born': 1, 'so': 1, 'a': 2, 'our': 1, 'fun': 1, 'momento': 1, 'calendar': 1, 'was': 1, 'its': 1, 'friend': 1, 'bought': 1}, {'a': 2, 'and': 1, 'little': 1, 'busy': 1, 'firsttime': 1, 'especially': 1, 'for': 1, 'all': 1, 'of': 1, 'easy': 1, 'up': 1, 'one': 1, 'to': 1, 'milestones': 1, 'mom': 1, 'quick': 1, 'the': 1, 'keep': 1, 'with': 1, 'first': 1}, {'remembering': 1, 'and': 4, 'personalization': 1, 'am': 1, 'back': 1, 'month': 1, 'down': 1, 'year': 1, 'calendar': 1, 'throughout': 1, 'perfect': 1, 'reviews': 1, 'based': 1, 'for': 3, 'to': 1, 'pictures': 1, 'spots': 1, 'jotting': 1, 'also': 1, 'high': 1, 'low': 1, 'has': 1, 'happy': 1, 'be': 1, 'that': 1, 'memories': 1, 'dates': 1, 'quick': 1, 'one': 1, 'a': 1, 'on': 3, 'babys': 1, 'look': 1, '34firsts34': 1, 'did': 1, 'of': 1, 'this': 1, 'will': 1, 'i': 3, 'so': 1, 'searched': 1, 'fun': 1, 'the': 2, 'settled': 1, 'first': 1}, {'enjoy': 1, 'would': 1, 'give': 1, 'is': 2, 'it': 1, 'one': 1, 'born': 1, 'as': 3, 'are': 1, 'want': 1, 'children': 1, 'from': 1, 'i': 1, 'for': 2, 'their': 1, 'had': 1, 'looking': 1, 'to': 3, 'parents': 2, 'new': 1, 'you': 1, 'start': 1, 'good': 1, 'that': 1, 'very': 2, 'each': 1, 'calendars': 1, 'chart': 1, 'soon': 1, 'five': 1, 'they': 3, 'baby': 1, 'now': 1, 'beginning': 1, 'themselves': 1, 'a': 2, 'especially': 1, 'gift': 1, '34firsts34': 2, 'these': 1, 'of': 2, 'up': 1, 'this': 1, 'so': 1, 'can': 1, 'mother': 1, 'the': 3, 'my': 1}, {}, {'and': 2, 'all': 1, 'love': 1, 'daughterinlaw': 1, 'absolutely': 1, 'it': 2, 'born': 1, 'purchased': 1, 'in': 1, 'again': 1, 'for': 1, 'when': 1, 'same': 1, 'to': 1, 'book': 1, 'version': 1, 'scripture': 1, 'was': 2, 'thrilled': 1, 'baby': 1, 'he': 1, 'boy': 1, 'grandson': 1, 'receive': 1, 'of': 1, 'i': 1, 'the': 3, 'my': 2}, {'simple': 1, 'it': 1, 'down': 1, 'as': 1, 'at': 1, 'verses': 1, 'in': 1, 'for': 1, 'bottom': 1, 'memories': 1, 'to': 1, 'bought': 1, 'but': 1, 'important': 1, 'put': 1, 'law': 1, 'pages': 1, 'a': 2, 'loved': 2, 'daughter': 1, 'gift': 1, 'i': 1, 'of': 1, 'place': 1, 'she': 1, 'the': 1, 'my': 1}, {'this': 1, 'all': 1, 'right': 1, 'prayers': 1, 'wasnt': 1, 'ages': 1, 'product': 1, 'baby': 1, 'are': 1, 'have': 1, 'religious': 1, 'out': 1, 'fir': 1, 'for': 3, 'not': 1, 'memories': 1, 'pages': 1, 'almost': 1, 'book': 1, 'has': 1, 'was': 1, 'we': 1, 'sure': 1, 'returned': 1, 'that': 3, 'some': 1, 'but': 2, 'it': 2, 'ask': 1, 'with': 1, 'realize': 1, 'a': 1, 'keeping': 1, 'lifestyle': 1, 'anything': 1, 'i': 3, 'scripture': 1, 'favorite': 1, 'against': 1, 'etc': 1, 'so': 2, 'of': 1, 'the': 4, 'didnt': 1}, {'and': 4, 'cute': 1, 'liked': 1, 'questions': 1, 'when': 2, 'is': 3, 'foot': 1, 'it': 2, 'one': 2, 'locks': 1, 'want': 1, 'hairetc': 1, 'your': 2, 'perfect': 1, 'little': 2, 'for': 4, 'also': 1, 'memories': 1, 'had': 1, 'to': 2, 'book': 1, 'asking': 1, 'which': 1, 'place': 1, 'you': 1, 'has': 1, 'main': 1, 'we': 1, 'omgwe': 1, 'prints': 1, 'even': 1, 'hand': 1, 'reason': 1, 'keepsakes': 1, 'baby': 3, 'why': 1, 'bigger': 1, 'remember': 1, 'a': 2, 'loved': 1, 'great': 1, 'gets': 1, 'places': 1, 'gift': 1, 'born': 1, 'this': 2, 'of': 1, 'put': 1, 'shower': 1, 'so': 1, 'pockets': 1, 'starts': 1, 'the': 2, 'first': 1}, {'pink': 1, 'pastel': 1, 'life': 1, 'love': 1, 'i': 1, 'to': 1, 'color': 1, 'my': 1, 'cherished': 1, 'great': 1, 'granddaughters': 1, 'record': 1, 'beautiful': 2, 'book': 1, 'in': 1, 'it': 1, 'the': 1, 'times': 1, 'with': 1}, {'and': 2, 'mini': 1, 'family': 1, 'is': 2, 'an': 1, 'hair': 1, 'flammish': 1, 'maternity': 1, 'in': 1, 'really': 1, 'perfect': 1, 'for': 1, 'looking': 1, 'to': 2, 'book': 1, 'lot': 1, 'fill': 1, 'was': 1, 'happy': 2, 'preserve': 1, 'firstsand': 1, 'french': 1, 'baby': 1, 'one': 1, 'with': 1, 'info': 1, 'purchase': 1, 'daddy': 1, 'i': 1, 'of': 1, 'this': 2, 'pockets': 1, 'english': 1, 'im': 1, 'the': 2, 'braceletreally': 1}, {'and': 2, 'detailed': 1, 'everyone': 1, 'is': 1, 'year': 1, 'it': 1, 'childs': 1, 'through': 1, 'are': 1, 'questions': 1, 'in': 1, 'its': 1, 'perfect': 1, 'for': 2, 'record': 2, 'parentid': 1, 'your': 2, 'kindergarten': 2, 'to': 3, 'book': 2, 'way': 1, 'recommend': 1, 'answer': 1, 'receiving': 1, 'was': 1, 'surprised': 1, 'entitled': 1, 'photographs': 1, 'life': 1, 'very': 1, 'memory': 1, 'upon': 1, 'kindergartener': 1, 'ones': 1, 'purpose': 1, 'child': 1, 'with': 1, 'pleasantly': 1, 'a': 1, 'i': 1, 'of': 1, 'experience': 1, 'this': 2, 'while': 1, 'important': 1, 'time': 1, 'fun': 1, 'the': 4, 'serving': 1, 'my': 1, 'descriptions': 1}, {'and': 1, 'already': 1, 'it': 1, 'years': 1, 'see': 1, 'im': 1, 'questions': 2, 'stumbled': 1, 'to': 2, 'answering': 1, 'answered': 1, 'gem': 1, 'memory': 1, 'has': 1, 'be': 1, 'started': 1, 'upon': 1, 'back': 1, 'how': 1, 'son': 1, 'glad': 1, 'he': 1, 'a': 1, 'great': 1, 'look': 1, 'i': 2, 'later': 1, 'will': 1, 'these': 1, 'so': 1, 'the': 1, 'my': 1, 'think': 1}, {'and': 1, '6': 1, 'old': 1, 'just': 2, 'character': 1, 'is': 1, 'it': 1, 'son': 1, 'as': 1, 'have': 1, 'toy': 1, 'hes': 1, 'when': 1, 'long': 1, 'few': 2, 'enough': 1, 'book': 2, 'stuffed': 1, 'elephant': 1, 'so': 1, 'be': 1, 'we': 1, 'attention': 1, 'to': 3, 'between': 1, 'realization': 1, 'words': 1, 'month': 1, 'with': 1, 'pages': 1, 'association': 1, 'a': 2, 'short': 1, 'older': 1, 'of': 2, 'well': 1, 'see': 1, 'keep': 1, 'will': 1, 'neat': 1, 'each': 1, 'the': 7, 'my': 1, 'page': 1}, {'and': 1, 'is': 1, 'it': 3, 'highly': 1, 'for': 1, 'also': 1, 'pretty': 1, 'recommend': 1, 'gives': 1, 'be': 1, 'used': 1, 'very': 1, 'a': 3, 'great': 1, 'made': 1, 'gift': 1, 'this': 1, 'light': 1, 'well': 1, 'will': 1, 'yearsi': 1, 'nice': 1, 'makes': 1}, {'affordable': 1, 'try': 1, 'and': 2, 'room': 1, 'for': 1, 'wall': 1, 'spring': 1, 'easy': 1, 'project': 1, 'up': 1, 'decals': 1, 'this': 1, '5': 1, 'brightens': 1, 'a': 1, 'fun': 1, 'quality': 1, 'fine': 1, 'any': 1, 'out': 1}, {'all': 1, 'because': 1, 'wall': 1, 'money': 1, 'is': 1, 'it': 1, 'one': 1, 'second': 1, 'in': 2, 'apply': 1, 'flowers': 1, 'flower': 1, 'floor': 1, 'when': 1, 'to': 1, 'only': 1, 'you': 1, 'waste': 1, 'reasonsmall': 1, 'most': 1, 'fell': 1, 'know': 1, 'pieceyou': 1, 'day': 1, 'a': 1, 'on': 2, 'sizehard': 1, 'roll': 1, 'see': 1, 'morning': 1, 'will': 1, 'part': 1, 'how': 1, 'of': 1, 'the': 4}, {'and': 1, 'wall': 1, 'them': 1, 'decals': 1, 'as': 1, 'thick': 1, 'again': 1, 'would': 2, 'literally': 1, 'stayed': 1, 'plastic': 1, 'stuck': 1, '5': 1, 'recommend': 1, 'was': 1, 'then': 1, 'almost': 1, 'started': 1, 'peeling': 1, 'stick': 1, 'coming': 1, 'not': 2, 'off': 2, 'like': 1, 'purchase': 1, 'about': 1, 'applying': 1, 'for': 1, 'i': 1, 'were': 2, 'the': 3, 'minutes': 1, 'or': 1}, {'and': 3, '34look34': 1, 'all': 1, 'dont': 1, 'themed': 1, 'winnie': 1, 'fantastic': 1, 'cost': 1, 'at': 1, 'in': 1, 'stickers': 2, 'impressed': 1, 'decor': 1, 'that': 1, 'seamless': 1, 'to': 1, 'easy': 1, 'new': 1, 'was': 1, 'a': 1, 'option': 1, 'get': 1, 'very': 4, 'paintwork': 1, 'stick': 1, 'they': 2, 'not': 1, 'pooh': 1, 'with': 1, 'wall': 2, 'like': 1, 'zealand': 1, 'on': 3, 'look': 1, 'effective': 1, 'i': 2, 'could': 1, 'these': 2, 'were': 2, 'professional': 1, 'the': 3}, {'and': 1, 'on': 1, 'about': 1, 'said': 1, 'i': 2, 'ir': 1, 'grat': 1, 'satisfied': 1, 'reccomend': 1, 'product': 2, 'very': 1, 'as': 1, 'design': 1, 'came': 1, 'it': 1, 'follow': 1, 'the': 2, 'highly': 1, 'page': 1, 'buying': 1, 'more': 1}, {'love': 1, 'chain': 1, 'it': 1, 'jesus': 1, 'in': 1, 'need': 1, 'our': 1, 'divine': 3, 'your': 1, 'jesuswho': 1, 'for': 1, 'pray': 1, 'god': 1, 'to': 1, 'offers': 1, 'you': 1, 'nice': 1, 'an': 1, 'around': 1, 'mercy': 3, 'very': 1, 'lives': 1, 'pendant': 1, 'now': 1, 'him': 1, 'on': 1, 'neck': 1, 'country': 1, 'us': 1, 'ocean': 1, 'represents': 1, 'of': 2, 'my': 1}, {'and': 4, 'soft': 1, 'changes': 1, 'right': 1, 'love': 1, 'simple': 1, 'im': 1, 'are': 3, 'our': 1, 'find': 1, 'for': 2, 'ordering': 1, 'get': 1, 'actually': 1, 'other': 1, 'wipes': 2, 'more': 1, 'a': 2, 'them': 2, 'million': 1, 'that': 1, 'price': 1, 'after': 1, 'uses': 1, 'know': 1, 'they': 3, 'baby': 1, 'during': 1, 'now': 1, 'reusable': 1, 'dry': 1, 'great': 1, 'these': 1, 'of': 1, 'ill': 1, 'days': 1, 'i': 2, 'so': 1, 'clean': 1, 'done': 1, 'my': 1, 'diaper': 2}, {'and': 2, 'smaller': 1, 'just': 1, 'wall': 1, 'is': 1, 'it': 2, 'looks': 1, 'what': 1, 'measurements': 1, 'was': 2, 'nice': 1, 'that': 1, 'but': 1, 'not': 1, 'bit': 1, 'than': 1, 'a': 1, 'on': 1, 'great': 1, 'i': 1, 'fault': 1, 'taking': 1, 'thought': 1, 'the': 1, 'my': 2}, {'and': 2, 'old': 1, 'significantly': 1, 'them': 1, 'one': 1, 'high': 1, 'as': 1, 'are': 1, 'broken': 1, 'year': 1, 'seem': 1, 'open': 4, 'size': 1, 'once': 1, 'given': 1, 'hasnt': 1, 'for': 1, 'needed': 1, 'that': 1, 'able': 1, 'their': 1, 'only': 1, 'of': 2, 'safety': 1, 'normal': 1, '6': 1, 'pins': 3, 'new': 1, 'learned': 1, 'has': 1, 'was': 2, 'bought': 1, 'we': 2, 'his': 1, 'to': 4, 'though': 1, 'price': 1, 'night': 1, 'use': 1, 'break': 1, 'how': 1, 'bit': 1, 'son': 1, 'than': 1, 'he': 2, 'a': 1, 'on': 1, 'autistic': 1, 'package': 1, 'these': 1, 'recall': 1, 'sturdy': 1, 'shipping': 1, 'side': 1, 'i': 1, 'reasonable': 1, 'time': 1, 'the': 4, 'more': 2, 'my': 1, 'or': 1, 'clothes': 1}, {'and': 1, 'be': 1, 'good': 1, 'dutyable': 1, 'to': 1, 'in': 1, 'no': 1, 'these': 1, 'others': 1, 'as': 1, 'needed': 1, 'qualityworked': 1, 'used': 1, 'way': 1, 'were': 1, 'need': 1, 'fineheavy': 1, 'my': 1, 'any': 1, 'filled': 1}, {'and': 1, 'a': 3, 'great': 2, 'colors': 1, 'pin': 1, 'for': 1, 'that': 1, 'lots': 1, 'of': 1, 'bargain': 1, 'to': 1, 'bright': 1, 'safety': 1, 'easy': 1, 'uses': 1, 'has': 1, 'with': 1, 'find': 1, 'dozen': 1}, {'and': 1, 'not': 1, 'are': 2, 'in': 1, 'thick': 1, 'little': 1, 'fabric': 1, 'no': 2, 'fortunately': 1, 'there': 1, 'stuck': 1, 'flimsy': 1, 'attractive': 1, 'pins': 2, 'was': 2, 'them': 1, 'used': 1, 'to': 1, 'on': 2, 'diaper': 1, 'baby': 1, 'hold': 1, 'received': 1, 'i': 2, 'involved': 1, 'metal': 1, 'up': 1, 'did': 1, 'while': 1, 'so': 1, 'the': 4}, {'the': 3, 'honduras': 2, 'is': 1, 'it': 1, 'kits': 1, 'have': 1, 'in': 2, 'our': 1, 'find': 1, 'also': 1, '34pampers34': 1, '34disposable34': 1, 'to': 3, 'pins': 2, 'sent': 2, 'difficult': 1, 'do': 1, 'we': 2, 'missionaries': 1, 'diapers': 1, 'cloth': 1, 'diaper': 2, 'they': 2, 'not': 1, 'hold': 1, 'with': 1, 'appreciated': 1, 'these': 1, 'age': 1, 'went': 1}, {'and': 3, 'dressmaker': 1, 'since': 1, 'have': 1, 'pin': 1, 'up': 1, 'up34': 1, 'theryre': 1, 'idea': 1, 'socks': 2, 'years': 1, 'course': 1, 'through': 2, 'a': 1, 'using': 1, 'open': 2, 'your': 1, 'little': 1, 'working': 1, 'needed': 1, 'that': 1, 'been': 1, 'yet': 1, 'to': 4, 'recommended': 1, 'tended': 1, 'pins': 3, 'perfectly': 1, 'was': 2, 'do': 1, 'staying': 1, 'tried': 1, 'get': 1, 'never': 1, 'but': 3, 'it': 1, 'we': 2, 'them': 1, 'diaper': 2, 'they': 2, 'during': 1, 'brass': 1, 'one': 1, 'cycle': 1, 'tricky': 1, 'has': 1, 'washing': 1, 'like': 1, 'lost': 1, 'wash': 2, 'i': 2, 'of': 2, 'wife': 1, 'suggested': 1, 'together': 2, 'keep': 1, 'matter': 1, '34friended': 1, 'can': 1, 'many': 1, 'the': 4, 'my': 2, 'fact': 1}, {'and': 4, 'the': 11, 'dont': 1, 'pin': 2, 'sock': 1, 'into': 1, 'each': 1, 'am': 1, 'idea': 1, 'socks': 6, 'one': 1, 'feet': 1, 'as': 2, 'done': 1, 'are': 2, 'another': 1, 'reviewer': 1, 'my': 2, 'still': 1, 'saved': 1, 'hamper': 2, 'out': 1, 'these': 1, 'use': 1, 'just': 2, 'open': 1, 'with': 2, 'had': 1, 'matching': 1, 'to': 2, 'lot': 1, 'before': 1, 'washer': 1, 'has': 1, 'side': 1, 'dried': 1, 'dry': 2, 'them': 1, 'after': 1, 'stay': 1, 'read': 1, 'shelf': 1, 'of': 4, 'hang': 2, 'great': 2, 'here': 1, 'it': 2, 'by': 1, 'pins': 1, 'mismatched': 1, 'they': 2, 'leave': 1, 'put': 1, 'line': 2, 'now': 1, 'come': 1, 'problem': 1, 'glad': 1, 'clothespins': 1, 'a': 3, 'on': 6, 'about': 1, 'washing': 1, 'for': 1, 'lost': 1, 'this': 2, 'wish': 1, 'life': 1, 'noted': 1, 'reviews': 1, 'i': 7, 'without': 1, 'dirty': 1, 'have': 1, 'time': 1, 'grab': 1, 'whole': 1, 'or': 1, 'once': 1}, {'all': 1, 'old': 1, 'is': 1, 'hard': 1, 'it': 1, 'through': 1, 'at': 1, 'have': 1, 'still': 1, 'thicker': 1, 'fabric': 1, 'would': 1, 'to': 1, 'which': 1, 'recommend': 1, 'pins': 1, 'steel': 1, 'very': 1, 'part': 1, 'diaper': 1, 'not': 2, 'strong': 1, 'a': 1, 'unlike': 1, 'i': 1, 'work': 1, 'the': 2}, {'sadand': 1, 'overpriced': 1, 'be': 1, 'am': 1, 'back': 1, 'are': 2, 'have': 1, 'in': 1, 'should': 1, 'really': 1, 'thought': 1, 'use': 1, 'pictureas': 1, 'there': 1, 'when': 1, 'mark': 1, 'to': 2, 'only': 2, 'going': 1, 'safety': 1, 'pins': 2, 'out': 1, 'was': 1, 'pinsturns': 1, 'them': 1, 'dozen': 1, 'that': 1, 'regular': 1, 'they': 1, 'crochet': 1, 'a': 1, '10': 1, 'getting': 1, 'i': 8, 'yarn': 1, 'counted': 1, 'will': 1, 'so': 1, 'the': 2, 'think': 1}, {'because': 1, 'tabs': 1, 'is': 1, 'am': 1, 'ends': 1, 'doesnt': 1, 'through': 2, 'bend': 1, 'sharp': 1, 'said': 1, 'anymore': 1, 'which': 1, 'dislike': 1, 'easier': 1, 'them': 1, 'pain': 1, 'that': 2, 'pushing': 1, 'diapers': 2, 'velcro': 2, 'sides': 1, 'a': 1, 'on': 1, 'pierce': 1, 'like': 1, 'older': 1, 'i': 1, 'work': 1, 'the': 2, 'my': 2}, {'and': 1, 'right': 1, 'bends': 1, 'color': 1, 'is': 1, 'am': 2, 'as': 2, 'are': 1, 'for': 1, 'expected': 1, 'happy': 1, 'steel': 1, 'material': 1, 'on': 1, 'needle': 1, 'diapers': 1, 'but': 1, 'not': 2, 'strong': 1, 'with': 1, 'a': 1, 'easily': 1, 'i': 3, 'dog': 1, 'bed': 1, 'pinning': 1, 'these': 2, 'so': 1, 'the': 3}, {'a': 1, 'locally': 1, 'useful': 1, 'to': 2, 'no': 1, 'this': 1, 'item': 1, 'is': 1, 'hard': 1, 'matter': 1, 'purpose': 1, 'have': 1, 'pins': 1, 'the': 1, 'find': 1, 'are': 1, 'diaper': 1}, {'all': 1, 'hold': 1, 'dont': 1, 'just': 1, 'give': 1, 'wall': 1, 'am': 1, 'it': 6, 'an': 4, 'not': 1, 'as': 3, 'doesnt': 1, 'design': 1, 'at': 1, 'have': 1, 'sense': 2, 'seen': 1, 'pleased': 1, 'compared': 1, 'start': 1, 'make': 2, 'had': 2, 'actually': 1, 'to': 3, 'difference': 1, '2': 1, 'way': 1, 'weeks': 1, 'was': 1, 'sort': 1, 'be': 1, 'branches': 1, 'any': 1, 'far': 1, 'peeled': 1, 'about': 1, 'free': 1, 'hand': 1, 'putting': 1, 'a': 1, 'they': 1, 'half': 1, 'put': 1, 'actual': 1, 'aligned': 1, 'with': 2, 'you': 2, 'bigger': 1, 'ago': 1, 'picture': 2, 'made': 1, 'off': 1, 'i': 4, 'wish': 1, 'could': 1, 'instruction': 1, 'up': 3, 'together': 1, 'so': 1, 'of': 1, 'the': 5, 'my': 1, 'numbers': 1}, {'do': 1, 'them': 1, 'peel': 1, 'start': 1, 'these': 1, 'soon': 1, 'to': 3, 'as': 2, 'stick': 2, 'they': 1, 'not': 1, 'you': 1, 'the': 2, 'wall': 2}, {'all': 1, 'money': 1, 'into': 1, 'it': 3, 'pieces': 1, 'wallvery': 1, 'ended': 1, 'disappointing': 1, 'at': 1, 'bedroom': 2, 'glue': 1, 'for': 1, 'floor': 1, 'not': 1, 'girls': 1, 'to': 3, 'got': 1, 'waste': 1, 'was': 2, 'excited': 1, 'product': 1, 'get': 1, 'very': 2, 'back': 1, 'every': 1, 'baby': 1, 'picking': 1, 'sticky': 1, 'super': 1, 'is': 1, 'on': 1, 'off': 1, 'wouldnt': 1, 'i': 4, 'of': 1, 'when': 1, 'up': 2, 'walked': 1, 'having': 1, 'this': 1, 'so': 1, 'time': 2, 'frustrating': 1, 'the': 5, 'my': 1, 'or': 1}, {'knots': 1, 'heart': 1, 'because': 1, 'ordered': 1, 'undoer': 1, 'pope': 2, 'photo': 1, 'is': 2, 'am': 1, 'it': 4, 'beautiful': 1, 'in': 3, 'our': 2, 'between': 1, 'again': 1, 'strong': 1, 'just': 1, 'would': 1, 'untier': 1, 'giving': 1, 'disappointed': 1, 'whom': 1, 'recommend': 1, 'has': 1, 'was': 1, 'knotted': 1, 'friend': 2, 'lady': 1, 'buy': 1, 'to': 1, 'beat': 1, 'novena': 1, 'blessed': 1, 'made': 1, 'not': 1, 'along': 1, 'francis': 2, 'with': 2, 'by': 1, 'copy': 1, 'a': 4, 'and': 3, 'lovely': 1, 'rosary': 2, 'for': 2, 'fathers': 1, 'i': 4, 'of': 3, 'this': 3, 'as': 1, 'looked': 1, 'crystal': 1, 'definitely': 1, 'the': 3, 'my': 1, 'or': 1, 'devotion': 1}, {'and': 2, 'all': 1, 'right': 1, 'just': 1, 'scapular': 1, 'some': 1, 'an': 1, 'quality': 1, 'for': 2, 'to': 1, 'more': 1, 'wearing': 1, 'brown': 1, 'around': 1, 'price': 1, 'blessing': 1, 'excellent': 1, 'such': 1, 'precious': 1, 'a': 1, 'neck': 1, 'value': 1, 'item': 1, 'the': 5, 'makes': 1, 'or': 1, 'orattaching': 1}, {'beautiful': 2, 'and': 3, 'love': 1, 'dont': 1, 'recognize': 1, 'beware': 1, 'am': 3, 'rightbuyer': 1, 'an': 1, 'down': 1, 'as': 2, 'through': 1, 'fast': 1, 'have': 1, 'still': 1, 'if': 3, 'even': 1, 'slow': 1, 'but': 1, 'would': 2, 'item': 1, 'there': 2, 'had': 3, 'been': 2, 'for': 1, 'to': 5, 'finally': 1, 'music': 4, 'too': 1, 'way': 2, 'watching': 1, 'was': 1, 'excited': 2, '2500': 1, 'be': 1, 'play': 1, 'someone': 1, 'get': 1, 'very': 1, 'about': 1, 'me': 1, 'it': 4, 'excuse': 1, 'box': 2, 'know': 1, 'not': 3, 'song': 2, 'with': 1, 'is': 4, 'a': 2, 'nativity': 3, 'great': 1, 'look': 1, 'this': 1, 'wish': 1, 'months': 1, 'tell': 1, 'i': 10, 'so': 3, 'of': 1, 'the': 7, 'happy': 2, 'spend': 1, 'once': 1}, {'and': 2, 'slid': 1, 'tough': 2, 'product': 2, 'over': 1, 'fit': 2, 'am': 1, 'satisfied': 1, 'hair': 1, 'snug': 1, 'are': 2, 'have': 2, 'love': 1, 'pleased': 1, 'if': 1, 'for': 1, 'also': 1, 'bangle': 1, 'had': 1, 'fast': 1, 'to': 3, 'fitting': 1, 'whew': 1, 'bangles': 1, 'size': 1, 'was': 1, 'them': 1, 'stay': 1, 'get': 1, 'got': 1, 'overall': 1, 'however': 1, 'but': 2, 'hand': 2, 'wrist': 1, 'adult': 1, 'they': 4, 'hands': 1, 'bit': 1, 'lotion': 1, 'with': 3, 'bigger': 1, 'kid': 1, 'a': 3, 'on': 3, 'like': 1, 'wouldnt': 1, 'i': 5, 'shipping': 1, 'large': 1, 'these': 1, 'were': 1, 'small': 3, 'the': 3, 'my': 1}, {'and': 2, 'set': 1, 'old': 1, 'for': 1, 'cooking': 1, '2': 1, 'lot': 1, 'has': 1, 'was': 1, 'granddaughter': 1, 'yr': 1, 'with': 1, 'a': 1, 'great': 1, 'this': 1, 'of': 1, 'pretend': 1, 'she': 1, 'fun': 1, 'the': 1, 'my': 1, 'playing': 1}, {'and': 1, 'useful': 1, 'awesome': 1, 'wash': 1, 'are': 1, 'also': 1, 'to': 1, 'much': 1, 'easy': 1, 'is': 1, 'them': 1, 'very': 2, 'price': 1, 'they': 1, 'bibs': 1, 'friends': 1, 'those': 1, 'dry': 1, 'like': 2, 'i': 1, 'the': 1, 'my': 1}, {'beautiful': 1, 'old': 1, 'curls': 1, 'is': 1, 'wash': 1, 'good': 1, 'in': 1, 'messy': 1, 'provided': 1, '20': 1, 'for': 1, 'boy': 1, 'when': 1, 'fingers': 1, 'to': 2, 'protections': 1, 'too': 1, 'easy': 1, 'eaters': 1, 'elbows': 1, 'his': 2, 'missing': 1, 'very': 1, 'who': 1, 'pasta': 2, 'pocket': 1, 'marinara': 1, 'mouth': 1, 'fall': 1, 'front': 1, 'bibs': 2, 'with': 1, 'eat': 1, 'a': 1, 'loved': 1, 'daughter': 1, 'grandson': 1, 'this': 2, 'months': 1, 'loves': 1, 'the': 2, 'my': 2, 'or': 1}, {'perfect': 1, 'a': 1, 'and': 1, 'i': 1, 'for': 1, 'collect': 1, 'this': 2, 'ornament': 1, 'is': 2, 'tree': 1, 'it': 1, 'collection': 1, 'nativity': 2, 'to': 2, 'add': 1, 'cute': 1, 'ornaments': 1, 'cant': 1, 'such': 1, 'my': 2, 'wait': 1}, ... ]"
      ]
     },
     "execution_count": 7,
     "metadata": {},
     "output_type": "execute_result"
    }
   ],
   "source": [
    "products['word_count']"
   ]
  },
  {
   "cell_type": "code",
   "execution_count": 8,
   "metadata": {
    "collapsed": false
   },
   "outputs": [
    {
     "data": {
      "text/plain": [
       "{'a': 1, 'favorite': 1, 'house': 1, 'in': 1, 'our': 1}"
      ]
     },
     "execution_count": 8,
     "metadata": {},
     "output_type": "execute_result"
    }
   ],
   "source": [
    "products[269]['word_count']"
   ]
  },
  {
   "cell_type": "markdown",
   "metadata": {},
   "source": [
    "## Extract sentiments\n",
    "\n",
    "We will **ignore** all reviews with *rating = 3*, since they tend to have a neutral sentiment."
   ]
  },
  {
   "cell_type": "code",
   "execution_count": 9,
   "metadata": {
    "collapsed": false
   },
   "outputs": [
    {
     "data": {
      "text/plain": [
       "166752"
      ]
     },
     "execution_count": 9,
     "metadata": {},
     "output_type": "execute_result"
    }
   ],
   "source": [
    "products = products[products['rating'] != 3]\n",
    "len(products)"
   ]
  },
  {
   "cell_type": "markdown",
   "metadata": {},
   "source": [
    "Now, we will assign reviews with a rating of 4 or higher to be *positive* reviews, while the ones with rating of 2 or lower are *negative*. For the sentiment column, we use +1 for the positive class label and -1 for the negative class label."
   ]
  },
  {
   "cell_type": "code",
   "execution_count": 10,
   "metadata": {
    "collapsed": false
   },
   "outputs": [
    {
     "data": {
      "text/html": [
       "<div style=\"max-height:1000px;max-width:1500px;overflow:auto;\"><table frame=\"box\" rules=\"cols\">\n",
       "    <tr>\n",
       "        <th style=\"padding-left: 1em; padding-right: 1em; text-align: center\">name</th>\n",
       "        <th style=\"padding-left: 1em; padding-right: 1em; text-align: center\">review</th>\n",
       "        <th style=\"padding-left: 1em; padding-right: 1em; text-align: center\">rating</th>\n",
       "        <th style=\"padding-left: 1em; padding-right: 1em; text-align: center\">word_count</th>\n",
       "        <th style=\"padding-left: 1em; padding-right: 1em; text-align: center\">sentiment</th>\n",
       "    </tr>\n",
       "    <tr>\n",
       "        <td style=\"padding-left: 1em; padding-right: 1em; text-align: center; vertical-align: top\">Planetwise Wipe Pouch</td>\n",
       "        <td style=\"padding-left: 1em; padding-right: 1em; text-align: center; vertical-align: top\">it came early and was not<br>disappointed. i love ...</td>\n",
       "        <td style=\"padding-left: 1em; padding-right: 1em; text-align: center; vertical-align: top\">5.0</td>\n",
       "        <td style=\"padding-left: 1em; padding-right: 1em; text-align: center; vertical-align: top\">{'and': 3, 'love': 1,<br>'it': 3, 'highly': 1, ...</td>\n",
       "        <td style=\"padding-left: 1em; padding-right: 1em; text-align: center; vertical-align: top\">1</td>\n",
       "    </tr>\n",
       "    <tr>\n",
       "        <td style=\"padding-left: 1em; padding-right: 1em; text-align: center; vertical-align: top\">Annas Dream Full Quilt<br>with 2 Shams ...</td>\n",
       "        <td style=\"padding-left: 1em; padding-right: 1em; text-align: center; vertical-align: top\">Very soft and comfortable<br>and warmer than it ...</td>\n",
       "        <td style=\"padding-left: 1em; padding-right: 1em; text-align: center; vertical-align: top\">5.0</td>\n",
       "        <td style=\"padding-left: 1em; padding-right: 1em; text-align: center; vertical-align: top\">{'and': 2, 'quilt': 1,<br>'it': 1, 'comfortable': ...</td>\n",
       "        <td style=\"padding-left: 1em; padding-right: 1em; text-align: center; vertical-align: top\">1</td>\n",
       "    </tr>\n",
       "    <tr>\n",
       "        <td style=\"padding-left: 1em; padding-right: 1em; text-align: center; vertical-align: top\">Stop Pacifier Sucking<br>without tears with ...</td>\n",
       "        <td style=\"padding-left: 1em; padding-right: 1em; text-align: center; vertical-align: top\">This is a product well<br>worth the purchase.  I ...</td>\n",
       "        <td style=\"padding-left: 1em; padding-right: 1em; text-align: center; vertical-align: top\">5.0</td>\n",
       "        <td style=\"padding-left: 1em; padding-right: 1em; text-align: center; vertical-align: top\">{'and': 3, 'ingenious':<br>1, 'love': 2, 'is': 4, ...</td>\n",
       "        <td style=\"padding-left: 1em; padding-right: 1em; text-align: center; vertical-align: top\">1</td>\n",
       "    </tr>\n",
       "    <tr>\n",
       "        <td style=\"padding-left: 1em; padding-right: 1em; text-align: center; vertical-align: top\">Stop Pacifier Sucking<br>without tears with ...</td>\n",
       "        <td style=\"padding-left: 1em; padding-right: 1em; text-align: center; vertical-align: top\">All of my kids have cried<br>non-stop when I tried to ...</td>\n",
       "        <td style=\"padding-left: 1em; padding-right: 1em; text-align: center; vertical-align: top\">5.0</td>\n",
       "        <td style=\"padding-left: 1em; padding-right: 1em; text-align: center; vertical-align: top\">{'and': 2, 'all': 2,<br>'help': 1, 'cried': 1, ...</td>\n",
       "        <td style=\"padding-left: 1em; padding-right: 1em; text-align: center; vertical-align: top\">1</td>\n",
       "    </tr>\n",
       "    <tr>\n",
       "        <td style=\"padding-left: 1em; padding-right: 1em; text-align: center; vertical-align: top\">Stop Pacifier Sucking<br>without tears with ...</td>\n",
       "        <td style=\"padding-left: 1em; padding-right: 1em; text-align: center; vertical-align: top\">When the Binky Fairy came<br>to our house, we didn't ...</td>\n",
       "        <td style=\"padding-left: 1em; padding-right: 1em; text-align: center; vertical-align: top\">5.0</td>\n",
       "        <td style=\"padding-left: 1em; padding-right: 1em; text-align: center; vertical-align: top\">{'and': 2, 'cute': 1,<br>'help': 2, 'habit': 1, ...</td>\n",
       "        <td style=\"padding-left: 1em; padding-right: 1em; text-align: center; vertical-align: top\">1</td>\n",
       "    </tr>\n",
       "    <tr>\n",
       "        <td style=\"padding-left: 1em; padding-right: 1em; text-align: center; vertical-align: top\">A Tale of Baby's Days<br>with Peter Rabbit ...</td>\n",
       "        <td style=\"padding-left: 1em; padding-right: 1em; text-align: center; vertical-align: top\">Lovely book, it's bound<br>tightly so you may no ...</td>\n",
       "        <td style=\"padding-left: 1em; padding-right: 1em; text-align: center; vertical-align: top\">4.0</td>\n",
       "        <td style=\"padding-left: 1em; padding-right: 1em; text-align: center; vertical-align: top\">{'shop': 1, 'be': 1,<br>'is': 1, 'bound': 1, ...</td>\n",
       "        <td style=\"padding-left: 1em; padding-right: 1em; text-align: center; vertical-align: top\">1</td>\n",
       "    </tr>\n",
       "    <tr>\n",
       "        <td style=\"padding-left: 1em; padding-right: 1em; text-align: center; vertical-align: top\">Baby Tracker&amp;reg; - Daily<br>Childcare Journal, ...</td>\n",
       "        <td style=\"padding-left: 1em; padding-right: 1em; text-align: center; vertical-align: top\">Perfect for new parents.<br>We were able to keep ...</td>\n",
       "        <td style=\"padding-left: 1em; padding-right: 1em; text-align: center; vertical-align: top\">5.0</td>\n",
       "        <td style=\"padding-left: 1em; padding-right: 1em; text-align: center; vertical-align: top\">{'and': 2, 'all': 1,<br>'right': 1, 'able': 1, ...</td>\n",
       "        <td style=\"padding-left: 1em; padding-right: 1em; text-align: center; vertical-align: top\">1</td>\n",
       "    </tr>\n",
       "    <tr>\n",
       "        <td style=\"padding-left: 1em; padding-right: 1em; text-align: center; vertical-align: top\">Baby Tracker&amp;reg; - Daily<br>Childcare Journal, ...</td>\n",
       "        <td style=\"padding-left: 1em; padding-right: 1em; text-align: center; vertical-align: top\">A friend of mine pinned<br>this product on Pinte ...</td>\n",
       "        <td style=\"padding-left: 1em; padding-right: 1em; text-align: center; vertical-align: top\">5.0</td>\n",
       "        <td style=\"padding-left: 1em; padding-right: 1em; text-align: center; vertical-align: top\">{'and': 1, 'fantastic':<br>1, 'help': 1, 'give': 1, ...</td>\n",
       "        <td style=\"padding-left: 1em; padding-right: 1em; text-align: center; vertical-align: top\">1</td>\n",
       "    </tr>\n",
       "    <tr>\n",
       "        <td style=\"padding-left: 1em; padding-right: 1em; text-align: center; vertical-align: top\">Baby Tracker&amp;reg; - Daily<br>Childcare Journal, ...</td>\n",
       "        <td style=\"padding-left: 1em; padding-right: 1em; text-align: center; vertical-align: top\">This has been an easy way<br>for my nanny to record ...</td>\n",
       "        <td style=\"padding-left: 1em; padding-right: 1em; text-align: center; vertical-align: top\">4.0</td>\n",
       "        <td style=\"padding-left: 1em; padding-right: 1em; text-align: center; vertical-align: top\">{'all': 1, 'standarad':<br>1, 'another': 1, ...</td>\n",
       "        <td style=\"padding-left: 1em; padding-right: 1em; text-align: center; vertical-align: top\">1</td>\n",
       "    </tr>\n",
       "    <tr>\n",
       "        <td style=\"padding-left: 1em; padding-right: 1em; text-align: center; vertical-align: top\">Baby Tracker&amp;reg; - Daily<br>Childcare Journal, ...</td>\n",
       "        <td style=\"padding-left: 1em; padding-right: 1em; text-align: center; vertical-align: top\">I love this journal and<br>our nanny uses it ...</td>\n",
       "        <td style=\"padding-left: 1em; padding-right: 1em; text-align: center; vertical-align: top\">4.0</td>\n",
       "        <td style=\"padding-left: 1em; padding-right: 1em; text-align: center; vertical-align: top\">{'all': 2, 'nannys': 1,<br>'just': 1, 'sleep': 2, ...</td>\n",
       "        <td style=\"padding-left: 1em; padding-right: 1em; text-align: center; vertical-align: top\">1</td>\n",
       "    </tr>\n",
       "</table>\n",
       "[166752 rows x 5 columns]<br/>Note: Only the head of the SFrame is printed.<br/>You can use print_rows(num_rows=m, num_columns=n) to print more rows and columns.\n",
       "</div>"
      ],
      "text/plain": [
       "Columns:\n",
       "\tname\tstr\n",
       "\treview\tstr\n",
       "\trating\tfloat\n",
       "\tword_count\tdict\n",
       "\tsentiment\tint\n",
       "\n",
       "Rows: 166752\n",
       "\n",
       "Data:\n",
       "+-------------------------------+-------------------------------+--------+\n",
       "|              name             |             review            | rating |\n",
       "+-------------------------------+-------------------------------+--------+\n",
       "|     Planetwise Wipe Pouch     | it came early and was not ... |  5.0   |\n",
       "| Annas Dream Full Quilt wit... | Very soft and comfortable ... |  5.0   |\n",
       "| Stop Pacifier Sucking with... | This is a product well wor... |  5.0   |\n",
       "| Stop Pacifier Sucking with... | All of my kids have cried ... |  5.0   |\n",
       "| Stop Pacifier Sucking with... | When the Binky Fairy came ... |  5.0   |\n",
       "| A Tale of Baby's Days with... | Lovely book, it's bound ti... |  4.0   |\n",
       "| Baby Tracker&reg; - Daily ... | Perfect for new parents. W... |  5.0   |\n",
       "| Baby Tracker&reg; - Daily ... | A friend of mine pinned th... |  5.0   |\n",
       "| Baby Tracker&reg; - Daily ... | This has been an easy way ... |  4.0   |\n",
       "| Baby Tracker&reg; - Daily ... | I love this journal and ou... |  4.0   |\n",
       "+-------------------------------+-------------------------------+--------+\n",
       "+-------------------------------+-----------+\n",
       "|           word_count          | sentiment |\n",
       "+-------------------------------+-----------+\n",
       "| {'and': 3, 'love': 1, 'it'... |     1     |\n",
       "| {'and': 2, 'quilt': 1, 'it... |     1     |\n",
       "| {'and': 3, 'ingenious': 1,... |     1     |\n",
       "| {'and': 2, 'all': 2, 'help... |     1     |\n",
       "| {'and': 2, 'cute': 1, 'hel... |     1     |\n",
       "| {'shop': 1, 'be': 1, 'is':... |     1     |\n",
       "| {'and': 2, 'all': 1, 'righ... |     1     |\n",
       "| {'and': 1, 'fantastic': 1,... |     1     |\n",
       "| {'all': 1, 'standarad': 1,... |     1     |\n",
       "| {'all': 2, 'nannys': 1, 'j... |     1     |\n",
       "+-------------------------------+-----------+\n",
       "[166752 rows x 5 columns]\n",
       "Note: Only the head of the SFrame is printed.\n",
       "You can use print_rows(num_rows=m, num_columns=n) to print more rows and columns."
      ]
     },
     "execution_count": 10,
     "metadata": {},
     "output_type": "execute_result"
    }
   ],
   "source": [
    "products['sentiment'] = products['rating'].apply(lambda rating : +1 if rating > 3 else -1)\n",
    "products"
   ]
  },
  {
   "cell_type": "markdown",
   "metadata": {},
   "source": [
    "Now, we can see that the dataset contains an extra column called **sentiment** which is either positive (+1) or negative (-1)."
   ]
  },
  {
   "cell_type": "markdown",
   "metadata": {},
   "source": [
    "## Split data into training and test sets"
   ]
  },
  {
   "cell_type": "markdown",
   "metadata": {},
   "source": [
    "Let's perform a train/test split with 80% of the data in the training set and 20% of the data in the test set. We use `seed=1` so that everyone gets the same result."
   ]
  },
  {
   "cell_type": "code",
   "execution_count": 11,
   "metadata": {
    "collapsed": false
   },
   "outputs": [
    {
     "name": "stdout",
     "output_type": "stream",
     "text": [
      "133416\n",
      "33336\n"
     ]
    }
   ],
   "source": [
    "train_data, test_data = products.random_split(.8, seed=1)\n",
    "print len(train_data)\n",
    "print len(test_data)"
   ]
  },
  {
   "cell_type": "markdown",
   "metadata": {},
   "source": [
    "# Train a sentiment classifier with logistic regression\n",
    "\n",
    "We will now use logistic regression to create a sentiment classifier on the training data. This model will use the column **word_count** as a feature and the column **sentiment** as the target. We will use `validation_set=None` to obtain same results as everyone else.\n",
    "\n",
    "**Note:** This line may take 1-2 minutes."
   ]
  },
  {
   "cell_type": "code",
   "execution_count": 12,
   "metadata": {
    "collapsed": false
   },
   "outputs": [],
   "source": [
    "sentiment_model = graphlab.logistic_classifier.create(train_data,\n",
    "                                                      target = 'sentiment',\n",
    "                                                      features=['word_count'],\n",
    "                                                      validation_set=None)"
   ]
  },
  {
   "cell_type": "code",
   "execution_count": 13,
   "metadata": {
    "collapsed": false,
    "scrolled": true
   },
   "outputs": [
    {
     "data": {
      "text/plain": [
       "Class                         : LogisticClassifier\n",
       "\n",
       "Schema\n",
       "------\n",
       "Number of coefficients        : 121713\n",
       "Number of examples            : 133416\n",
       "Number of classes             : 2\n",
       "Number of feature columns     : 1\n",
       "Number of unpacked features   : 121712\n",
       "\n",
       "Hyperparameters\n",
       "---------------\n",
       "L1 penalty                    : 0.0\n",
       "L2 penalty                    : 0.01\n",
       "\n",
       "Training Summary\n",
       "----------------\n",
       "Solver                        : auto\n",
       "Solver iterations             : 6\n",
       "Solver status                 : TERMINATED: Terminated due to numerical difficulties.\n",
       "Training time (sec)           : 7.4693\n",
       "\n",
       "Settings\n",
       "--------\n",
       "Log-likelihood                : inf\n",
       "\n",
       "Highest Positive Coefficients\n",
       "-----------------------------\n",
       "word_count[mobileupdate]      : 41.9847\n",
       "word_count[placeid]           : 41.7354\n",
       "word_count[labelbox]          : 41.151\n",
       "word_count[httpwwwamazoncomreviewrhgg6qp7tdnhbrefcmcrprcmtieutf8asinb00318cla0nodeid]: 40.0454\n",
       "word_count[knobskeeping]      : 36.2091\n",
       "\n",
       "Lowest Negative Coefficients\n",
       "----------------------------\n",
       "word_count[probelm]           : -44.9283\n",
       "word_count[impulsejeep]       : -43.081\n",
       "word_count[infantsyoung]      : -39.5945\n",
       "word_count[cutereditafter]    : -35.6875\n",
       "word_count[avacado]           : -35.0542"
      ]
     },
     "execution_count": 13,
     "metadata": {},
     "output_type": "execute_result"
    }
   ],
   "source": [
    "sentiment_model"
   ]
  },
  {
   "cell_type": "markdown",
   "metadata": {},
   "source": [
    "**Aside**. You may get an warning to the effect of \"Terminated due to numerical difficulties --- this model may not be ideal\". It means that the quality metric (to be covered in Module 3) failed to improve in the last iteration of the run. The difficulty arises as the sentiment model puts too much weight on extremely rare words. A way to rectify this is to apply regularization, to be covered in Module 4. Regularization lessens the effect of extremely rare words. For the purpose of this assignment, however, please proceed with the model above."
   ]
  },
  {
   "cell_type": "markdown",
   "metadata": {},
   "source": [
    "Now that we have fitted the model, we can extract the weights (coefficients) as an SFrame as follows:"
   ]
  },
  {
   "cell_type": "code",
   "execution_count": 18,
   "metadata": {
    "collapsed": false
   },
   "outputs": [
    {
     "data": {
      "text/html": [
       "<div style=\"max-height:1000px;max-width:1500px;overflow:auto;\"><table frame=\"box\" rules=\"cols\">\n",
       "    <tr>\n",
       "        <th style=\"padding-left: 1em; padding-right: 1em; text-align: center\">name</th>\n",
       "        <th style=\"padding-left: 1em; padding-right: 1em; text-align: center\">index</th>\n",
       "        <th style=\"padding-left: 1em; padding-right: 1em; text-align: center\">class</th>\n",
       "        <th style=\"padding-left: 1em; padding-right: 1em; text-align: center\">value</th>\n",
       "        <th style=\"padding-left: 1em; padding-right: 1em; text-align: center\">stderr</th>\n",
       "    </tr>\n",
       "    <tr>\n",
       "        <td style=\"padding-left: 1em; padding-right: 1em; text-align: center; vertical-align: top\">(intercept)</td>\n",
       "        <td style=\"padding-left: 1em; padding-right: 1em; text-align: center; vertical-align: top\">None</td>\n",
       "        <td style=\"padding-left: 1em; padding-right: 1em; text-align: center; vertical-align: top\">1</td>\n",
       "        <td style=\"padding-left: 1em; padding-right: 1em; text-align: center; vertical-align: top\">1.30337080544</td>\n",
       "        <td style=\"padding-left: 1em; padding-right: 1em; text-align: center; vertical-align: top\">None</td>\n",
       "    </tr>\n",
       "    <tr>\n",
       "        <td style=\"padding-left: 1em; padding-right: 1em; text-align: center; vertical-align: top\">word_count</td>\n",
       "        <td style=\"padding-left: 1em; padding-right: 1em; text-align: center; vertical-align: top\">recommend</td>\n",
       "        <td style=\"padding-left: 1em; padding-right: 1em; text-align: center; vertical-align: top\">1</td>\n",
       "        <td style=\"padding-left: 1em; padding-right: 1em; text-align: center; vertical-align: top\">0.303815600015</td>\n",
       "        <td style=\"padding-left: 1em; padding-right: 1em; text-align: center; vertical-align: top\">None</td>\n",
       "    </tr>\n",
       "    <tr>\n",
       "        <td style=\"padding-left: 1em; padding-right: 1em; text-align: center; vertical-align: top\">word_count</td>\n",
       "        <td style=\"padding-left: 1em; padding-right: 1em; text-align: center; vertical-align: top\">highly</td>\n",
       "        <td style=\"padding-left: 1em; padding-right: 1em; text-align: center; vertical-align: top\">1</td>\n",
       "        <td style=\"padding-left: 1em; padding-right: 1em; text-align: center; vertical-align: top\">1.49183015276</td>\n",
       "        <td style=\"padding-left: 1em; padding-right: 1em; text-align: center; vertical-align: top\">None</td>\n",
       "    </tr>\n",
       "    <tr>\n",
       "        <td style=\"padding-left: 1em; padding-right: 1em; text-align: center; vertical-align: top\">word_count</td>\n",
       "        <td style=\"padding-left: 1em; padding-right: 1em; text-align: center; vertical-align: top\">disappointed</td>\n",
       "        <td style=\"padding-left: 1em; padding-right: 1em; text-align: center; vertical-align: top\">1</td>\n",
       "        <td style=\"padding-left: 1em; padding-right: 1em; text-align: center; vertical-align: top\">-3.95748618393</td>\n",
       "        <td style=\"padding-left: 1em; padding-right: 1em; text-align: center; vertical-align: top\">None</td>\n",
       "    </tr>\n",
       "    <tr>\n",
       "        <td style=\"padding-left: 1em; padding-right: 1em; text-align: center; vertical-align: top\">word_count</td>\n",
       "        <td style=\"padding-left: 1em; padding-right: 1em; text-align: center; vertical-align: top\">love</td>\n",
       "        <td style=\"padding-left: 1em; padding-right: 1em; text-align: center; vertical-align: top\">1</td>\n",
       "        <td style=\"padding-left: 1em; padding-right: 1em; text-align: center; vertical-align: top\">1.43301685439</td>\n",
       "        <td style=\"padding-left: 1em; padding-right: 1em; text-align: center; vertical-align: top\">None</td>\n",
       "    </tr>\n",
       "    <tr>\n",
       "        <td style=\"padding-left: 1em; padding-right: 1em; text-align: center; vertical-align: top\">word_count</td>\n",
       "        <td style=\"padding-left: 1em; padding-right: 1em; text-align: center; vertical-align: top\">it</td>\n",
       "        <td style=\"padding-left: 1em; padding-right: 1em; text-align: center; vertical-align: top\">1</td>\n",
       "        <td style=\"padding-left: 1em; padding-right: 1em; text-align: center; vertical-align: top\">0.00986646490307</td>\n",
       "        <td style=\"padding-left: 1em; padding-right: 1em; text-align: center; vertical-align: top\">None</td>\n",
       "    </tr>\n",
       "    <tr>\n",
       "        <td style=\"padding-left: 1em; padding-right: 1em; text-align: center; vertical-align: top\">word_count</td>\n",
       "        <td style=\"padding-left: 1em; padding-right: 1em; text-align: center; vertical-align: top\">planet</td>\n",
       "        <td style=\"padding-left: 1em; padding-right: 1em; text-align: center; vertical-align: top\">1</td>\n",
       "        <td style=\"padding-left: 1em; padding-right: 1em; text-align: center; vertical-align: top\">-0.797764553926</td>\n",
       "        <td style=\"padding-left: 1em; padding-right: 1em; text-align: center; vertical-align: top\">None</td>\n",
       "    </tr>\n",
       "    <tr>\n",
       "        <td style=\"padding-left: 1em; padding-right: 1em; text-align: center; vertical-align: top\">word_count</td>\n",
       "        <td style=\"padding-left: 1em; padding-right: 1em; text-align: center; vertical-align: top\">and</td>\n",
       "        <td style=\"padding-left: 1em; padding-right: 1em; text-align: center; vertical-align: top\">1</td>\n",
       "        <td style=\"padding-left: 1em; padding-right: 1em; text-align: center; vertical-align: top\">0.048449573172</td>\n",
       "        <td style=\"padding-left: 1em; padding-right: 1em; text-align: center; vertical-align: top\">None</td>\n",
       "    </tr>\n",
       "    <tr>\n",
       "        <td style=\"padding-left: 1em; padding-right: 1em; text-align: center; vertical-align: top\">word_count</td>\n",
       "        <td style=\"padding-left: 1em; padding-right: 1em; text-align: center; vertical-align: top\">bags</td>\n",
       "        <td style=\"padding-left: 1em; padding-right: 1em; text-align: center; vertical-align: top\">1</td>\n",
       "        <td style=\"padding-left: 1em; padding-right: 1em; text-align: center; vertical-align: top\">0.165541436615</td>\n",
       "        <td style=\"padding-left: 1em; padding-right: 1em; text-align: center; vertical-align: top\">None</td>\n",
       "    </tr>\n",
       "    <tr>\n",
       "        <td style=\"padding-left: 1em; padding-right: 1em; text-align: center; vertical-align: top\">word_count</td>\n",
       "        <td style=\"padding-left: 1em; padding-right: 1em; text-align: center; vertical-align: top\">wipes</td>\n",
       "        <td style=\"padding-left: 1em; padding-right: 1em; text-align: center; vertical-align: top\">1</td>\n",
       "        <td style=\"padding-left: 1em; padding-right: 1em; text-align: center; vertical-align: top\">-0.0949937947269</td>\n",
       "        <td style=\"padding-left: 1em; padding-right: 1em; text-align: center; vertical-align: top\">None</td>\n",
       "    </tr>\n",
       "</table>\n",
       "[121713 rows x 5 columns]<br/>Note: Only the head of the SFrame is printed.<br/>You can use print_rows(num_rows=m, num_columns=n) to print more rows and columns.\n",
       "</div>"
      ],
      "text/plain": [
       "Columns:\n",
       "\tname\tstr\n",
       "\tindex\tstr\n",
       "\tclass\tint\n",
       "\tvalue\tfloat\n",
       "\tstderr\tfloat\n",
       "\n",
       "Rows: 121713\n",
       "\n",
       "Data:\n",
       "+-------------+--------------+-------+------------------+--------+\n",
       "|     name    |    index     | class |      value       | stderr |\n",
       "+-------------+--------------+-------+------------------+--------+\n",
       "| (intercept) |     None     |   1   |  1.30337080544   |  None  |\n",
       "|  word_count |  recommend   |   1   |  0.303815600015  |  None  |\n",
       "|  word_count |    highly    |   1   |  1.49183015276   |  None  |\n",
       "|  word_count | disappointed |   1   |  -3.95748618393  |  None  |\n",
       "|  word_count |     love     |   1   |  1.43301685439   |  None  |\n",
       "|  word_count |      it      |   1   | 0.00986646490307 |  None  |\n",
       "|  word_count |    planet    |   1   | -0.797764553926  |  None  |\n",
       "|  word_count |     and      |   1   |  0.048449573172  |  None  |\n",
       "|  word_count |     bags     |   1   |  0.165541436615  |  None  |\n",
       "|  word_count |    wipes     |   1   | -0.0949937947269 |  None  |\n",
       "+-------------+--------------+-------+------------------+--------+\n",
       "[121713 rows x 5 columns]\n",
       "Note: Only the head of the SFrame is printed.\n",
       "You can use print_rows(num_rows=m, num_columns=n) to print more rows and columns."
      ]
     },
     "execution_count": 18,
     "metadata": {},
     "output_type": "execute_result"
    }
   ],
   "source": [
    "weights = sentiment_model.coefficients\n",
    "weights.column_names()\n",
    "weights"
   ]
  },
  {
   "cell_type": "markdown",
   "metadata": {},
   "source": [
    "There are a total of `121713` coefficients in the model. Recall from the lecture that positive weights $w_j$ correspond to weights that cause positive sentiment, while negative weights correspond to negative sentiment. \n",
    "\n",
    "Fill in the following block of code to calculate how many *weights* are positive ( >= 0). (**Hint**: The `'value'` column in SFrame *weights* must be positive ( >= 0))."
   ]
  },
  {
   "cell_type": "code",
   "execution_count": 19,
   "metadata": {
    "collapsed": false
   },
   "outputs": [
    {
     "name": "stdout",
     "output_type": "stream",
     "text": [
      "Number of positive weights: 68419 \n",
      "Number of negative weights: 53294 \n"
     ]
    }
   ],
   "source": [
    "num_positive_weights = (weights[weights['value'] >= 0]).num_rows()\n",
    "num_negative_weights = (weights[weights['value'] < 0]).num_rows()\n",
    "\n",
    "print \"Number of positive weights: %s \" % num_positive_weights\n",
    "print \"Number of negative weights: %s \" % num_negative_weights"
   ]
  },
  {
   "cell_type": "markdown",
   "metadata": {},
   "source": [
    "**Quiz question:** How many weights are >= 0?"
   ]
  },
  {
   "cell_type": "markdown",
   "metadata": {},
   "source": [
    "## Making predictions with logistic regression\n",
    "\n",
    "Now that a model is trained, we can make predictions on the **test data**. In this section, we will explore this in the context of 3 examples in the test dataset.  We refer to this set of 3 examples as the **sample_test_data**."
   ]
  },
  {
   "cell_type": "code",
   "execution_count": 20,
   "metadata": {
    "collapsed": false
   },
   "outputs": [
    {
     "name": "stdout",
     "output_type": "stream",
     "text": [
      "[5.0, 2.0, 1.0]\n"
     ]
    },
    {
     "data": {
      "text/html": [
       "<div style=\"max-height:1000px;max-width:1500px;overflow:auto;\"><table frame=\"box\" rules=\"cols\">\n",
       "    <tr>\n",
       "        <th style=\"padding-left: 1em; padding-right: 1em; text-align: center\">name</th>\n",
       "        <th style=\"padding-left: 1em; padding-right: 1em; text-align: center\">review</th>\n",
       "        <th style=\"padding-left: 1em; padding-right: 1em; text-align: center\">rating</th>\n",
       "        <th style=\"padding-left: 1em; padding-right: 1em; text-align: center\">word_count</th>\n",
       "        <th style=\"padding-left: 1em; padding-right: 1em; text-align: center\">sentiment</th>\n",
       "    </tr>\n",
       "    <tr>\n",
       "        <td style=\"padding-left: 1em; padding-right: 1em; text-align: center; vertical-align: top\">Our Baby Girl Memory Book</td>\n",
       "        <td style=\"padding-left: 1em; padding-right: 1em; text-align: center; vertical-align: top\">Absolutely love it and<br>all of the Scripture in ...</td>\n",
       "        <td style=\"padding-left: 1em; padding-right: 1em; text-align: center; vertical-align: top\">5.0</td>\n",
       "        <td style=\"padding-left: 1em; padding-right: 1em; text-align: center; vertical-align: top\">{'and': 2, 'all': 1,<br>'love': 1, ...</td>\n",
       "        <td style=\"padding-left: 1em; padding-right: 1em; text-align: center; vertical-align: top\">1</td>\n",
       "    </tr>\n",
       "    <tr>\n",
       "        <td style=\"padding-left: 1em; padding-right: 1em; text-align: center; vertical-align: top\">Wall Decor Removable<br>Decal Sticker - Colorful ...</td>\n",
       "        <td style=\"padding-left: 1em; padding-right: 1em; text-align: center; vertical-align: top\">Would not purchase again<br>or recommend. The decals ...</td>\n",
       "        <td style=\"padding-left: 1em; padding-right: 1em; text-align: center; vertical-align: top\">2.0</td>\n",
       "        <td style=\"padding-left: 1em; padding-right: 1em; text-align: center; vertical-align: top\">{'and': 1, 'wall': 1,<br>'them': 1, 'decals': 1, ...</td>\n",
       "        <td style=\"padding-left: 1em; padding-right: 1em; text-align: center; vertical-align: top\">-1</td>\n",
       "    </tr>\n",
       "    <tr>\n",
       "        <td style=\"padding-left: 1em; padding-right: 1em; text-align: center; vertical-align: top\">New Style Trailing Cherry<br>Blossom Tree Decal ...</td>\n",
       "        <td style=\"padding-left: 1em; padding-right: 1em; text-align: center; vertical-align: top\">Was so excited to get<br>this product for my baby ...</td>\n",
       "        <td style=\"padding-left: 1em; padding-right: 1em; text-align: center; vertical-align: top\">1.0</td>\n",
       "        <td style=\"padding-left: 1em; padding-right: 1em; text-align: center; vertical-align: top\">{'all': 1, 'money': 1,<br>'into': 1, 'it': 3, ...</td>\n",
       "        <td style=\"padding-left: 1em; padding-right: 1em; text-align: center; vertical-align: top\">-1</td>\n",
       "    </tr>\n",
       "</table>\n",
       "[3 rows x 5 columns]<br/>\n",
       "</div>"
      ],
      "text/plain": [
       "Columns:\n",
       "\tname\tstr\n",
       "\treview\tstr\n",
       "\trating\tfloat\n",
       "\tword_count\tdict\n",
       "\tsentiment\tint\n",
       "\n",
       "Rows: 3\n",
       "\n",
       "Data:\n",
       "+-------------------------------+-------------------------------+--------+\n",
       "|              name             |             review            | rating |\n",
       "+-------------------------------+-------------------------------+--------+\n",
       "|   Our Baby Girl Memory Book   | Absolutely love it and all... |  5.0   |\n",
       "| Wall Decor Removable Decal... | Would not purchase again o... |  2.0   |\n",
       "| New Style Trailing Cherry ... | Was so excited to get this... |  1.0   |\n",
       "+-------------------------------+-------------------------------+--------+\n",
       "+-------------------------------+-----------+\n",
       "|           word_count          | sentiment |\n",
       "+-------------------------------+-----------+\n",
       "| {'and': 2, 'all': 1, 'love... |     1     |\n",
       "| {'and': 1, 'wall': 1, 'the... |     -1    |\n",
       "| {'all': 1, 'money': 1, 'in... |     -1    |\n",
       "+-------------------------------+-----------+\n",
       "[3 rows x 5 columns]"
      ]
     },
     "execution_count": 20,
     "metadata": {},
     "output_type": "execute_result"
    }
   ],
   "source": [
    "sample_test_data = test_data[10:13]\n",
    "print sample_test_data['rating']\n",
    "sample_test_data"
   ]
  },
  {
   "cell_type": "markdown",
   "metadata": {},
   "source": [
    "Let's dig deeper into the first row of the **sample_test_data**. Here's the full review:"
   ]
  },
  {
   "cell_type": "code",
   "execution_count": 21,
   "metadata": {
    "collapsed": false
   },
   "outputs": [
    {
     "data": {
      "text/plain": [
       "'Absolutely love it and all of the Scripture in it.  I purchased the Baby Boy version for my grandson when he was born and my daughter-in-law was thrilled to receive the same book again.'"
      ]
     },
     "execution_count": 21,
     "metadata": {},
     "output_type": "execute_result"
    }
   ],
   "source": [
    "sample_test_data[0]['review']"
   ]
  },
  {
   "cell_type": "markdown",
   "metadata": {},
   "source": [
    "That review seems pretty positive.\n",
    "\n",
    "Now, let's see what the next row of the **sample_test_data** looks like. As we could guess from the sentiment (-1), the review is quite negative."
   ]
  },
  {
   "cell_type": "code",
   "execution_count": 22,
   "metadata": {
    "collapsed": false
   },
   "outputs": [
    {
     "data": {
      "text/plain": [
       "'Would not purchase again or recommend. The decals were thick almost plastic like and were coming off the wall as I was applying them! The would NOT stick! Literally stayed stuck for about 5 minutes then started peeling off.'"
      ]
     },
     "execution_count": 22,
     "metadata": {},
     "output_type": "execute_result"
    }
   ],
   "source": [
    "sample_test_data[1]['review']"
   ]
  },
  {
   "cell_type": "markdown",
   "metadata": {},
   "source": [
    "We will now make a **class** prediction for the **sample_test_data**. The `sentiment_model` should predict **+1** if the sentiment is positive and **-1** if the sentiment is negative. Recall from the lecture that the **score** (sometimes called **margin**) for the logistic regression model  is defined as:\n",
    "\n",
    "$$\n",
    "\\mbox{score}_i = \\mathbf{w}^T h(\\mathbf{x}_i)\n",
    "$$ \n",
    "\n",
    "where $h(\\mathbf{x}_i)$ represents the features for example $i$.  We will write some code to obtain the **scores** using GraphLab Create. For each row, the **score** (or margin) is a number in the range **[-inf, inf]**."
   ]
  },
  {
   "cell_type": "code",
   "execution_count": 23,
   "metadata": {
    "collapsed": false
   },
   "outputs": [
    {
     "name": "stdout",
     "output_type": "stream",
     "text": [
      "[6.734619727059465, -5.73413099676044, -14.66846040446884]\n"
     ]
    }
   ],
   "source": [
    "scores = sentiment_model.predict(sample_test_data, output_type='margin')\n",
    "print scores"
   ]
  },
  {
   "cell_type": "markdown",
   "metadata": {},
   "source": [
    "### Predicting sentiment\n",
    "\n",
    "These scores can be used to make class predictions as follows:\n",
    "\n",
    "$$\n",
    "\\hat{y} = \n",
    "\\left\\{\n",
    "\\begin{array}{ll}\n",
    "      +1 & \\mathbf{w}^T h(\\mathbf{x}_i) > 0 \\\\\n",
    "      -1 & \\mathbf{w}^T h(\\mathbf{x}_i) \\leq 0 \\\\\n",
    "\\end{array} \n",
    "\\right.\n",
    "$$\n",
    "\n",
    "Using scores, write code to calculate $\\hat{y}$, the class predictions:"
   ]
  },
  {
   "cell_type": "code",
   "execution_count": 24,
   "metadata": {
    "collapsed": false
   },
   "outputs": [
    {
     "data": {
      "text/plain": [
       "dtype: int\n",
       "Rows: 3\n",
       "[1, -1, -1]"
      ]
     },
     "execution_count": 24,
     "metadata": {},
     "output_type": "execute_result"
    }
   ],
   "source": [
    "scores.apply(lambda score : +1 if score > 0 else -1)"
   ]
  },
  {
   "cell_type": "markdown",
   "metadata": {},
   "source": [
    "Run the following code to verify that the class predictions obtained by your calculations are the same as that obtained from GraphLab Create."
   ]
  },
  {
   "cell_type": "code",
   "execution_count": 25,
   "metadata": {
    "collapsed": false
   },
   "outputs": [
    {
     "name": "stdout",
     "output_type": "stream",
     "text": [
      "Class predictions according to GraphLab Create:\n",
      "[1, -1, -1]\n"
     ]
    }
   ],
   "source": [
    "print \"Class predictions according to GraphLab Create:\" \n",
    "print sentiment_model.predict(sample_test_data)"
   ]
  },
  {
   "cell_type": "markdown",
   "metadata": {},
   "source": [
    "**Checkpoint**: Make sure your class predictions match with the one obtained from GraphLab Create.\n",
    "\n",
    "### Probability predictions\n",
    "\n",
    "Recall from the lectures that we can also calculate the probability predictions from the scores using:\n",
    "$$\n",
    "P(y_i = +1 | \\mathbf{x}_i,\\mathbf{w}) = \\frac{1}{1 + \\exp(-\\mathbf{w}^T h(\\mathbf{x}_i))}.\n",
    "$$\n",
    "\n",
    "Using the variable **scores** calculated previously, write code to calculate the probability that a sentiment is positive using the above formula. For each row, the probabilities should be a number in the range **[0, 1]**."
   ]
  },
  {
   "cell_type": "code",
   "execution_count": 26,
   "metadata": {
    "collapsed": false
   },
   "outputs": [
    {
     "data": {
      "text/plain": [
       "dtype: float\n",
       "Rows: 3\n",
       "[0.9988123848377201, 0.0032232681818000954, 4.26155799665405e-07]"
      ]
     },
     "execution_count": 26,
     "metadata": {},
     "output_type": "execute_result"
    }
   ],
   "source": [
    "scores.apply(lambda score : 1/(1 + math.exp(-score)))"
   ]
  },
  {
   "cell_type": "markdown",
   "metadata": {},
   "source": [
    "**Checkpoint**: Make sure your probability predictions match the ones obtained from GraphLab Create."
   ]
  },
  {
   "cell_type": "code",
   "execution_count": 27,
   "metadata": {
    "collapsed": false
   },
   "outputs": [
    {
     "name": "stdout",
     "output_type": "stream",
     "text": [
      "Class predictions according to GraphLab Create:\n",
      "[0.99881238483772, 0.0032232681818000954, 4.261557996654048e-07]\n"
     ]
    }
   ],
   "source": [
    "print \"Class predictions according to GraphLab Create:\" \n",
    "print sentiment_model.predict(sample_test_data, output_type='probability')"
   ]
  },
  {
   "cell_type": "markdown",
   "metadata": {},
   "source": [
    "** Quiz Question:** Of the three data points in **sample_test_data**, which one (first, second, or third) has the **lowest probability** of being classified as a positive review?"
   ]
  },
  {
   "cell_type": "markdown",
   "metadata": {},
   "source": [
    "# Find the most positive (and negative) review"
   ]
  },
  {
   "cell_type": "markdown",
   "metadata": {},
   "source": [
    "We now turn to examining the full test dataset, **test_data**, and use GraphLab Create to form predictions on all of the test data points for faster performance.\n",
    "\n",
    "Using the `sentiment_model`, find the 20 reviews in the entire **test_data** with the **highest probability** of being classified as a **positive review**. We refer to these as the \"most positive reviews.\"\n",
    "\n",
    "To calculate these top-20 reviews, use the following steps:\n",
    "1.  Make probability predictions on **test_data** using the `sentiment_model`. (**Hint:** When you call `.predict` to make predictions on the test data, use option `output_type='probability'` to output the probability rather than just the most likely class.)\n",
    "2.  Sort the data according to those predictions and pick the top 20. (**Hint:** You can use the `.topk` method on an SFrame to find the top k rows sorted according to the value of a specified column.)"
   ]
  },
  {
   "cell_type": "code",
   "execution_count": 28,
   "metadata": {
    "collapsed": false
   },
   "outputs": [],
   "source": [
    "test_data['predictions'] = (sentiment_model.predict(test_data, output_type='probability'))"
   ]
  },
  {
   "cell_type": "code",
   "execution_count": 29,
   "metadata": {
    "collapsed": false
   },
   "outputs": [],
   "source": [
    "most_positive_reviews = sorted(test_data, key=lambda review: -review['predictions'])[0:20]"
   ]
  },
  {
   "cell_type": "markdown",
   "metadata": {},
   "source": [
    "**Quiz Question**: Which of the following products are represented in the 20 most positive reviews? [multiple choice]\n",
    "\n",
    "\n",
    "Now, let us repeat this excercise to find the \"most negative reviews.\" Use the prediction probabilities to find the  20 reviews in the **test_data** with the **lowest probability** of being classified as a **positive review**. Repeat the same steps above but make sure you **sort in the opposite order**."
   ]
  },
  {
   "cell_type": "code",
   "execution_count": 30,
   "metadata": {
    "collapsed": false
   },
   "outputs": [
    {
     "name": "stdout",
     "output_type": "stream",
     "text": [
      "Britax Decathlon Convertible Car Seat, Tiffany\n"
     ]
    }
   ],
   "source": [
    "filtered_list = filter(lambda review: review['name'] in ('Snuza Portable Baby Movement Monitor',\\\n",
    "                                               'MamaDoo Kids Foldable Play Yard Mattress Topper, Blue',\\\n",
    "                                               'Britax Decathlon Convertible Car Seat, Tiffany',\\\n",
    "                                               'Safety 1st Exchangeable Tip 3 in 1 Thermometer'), \\\n",
    "             most_positive_reviews)\n",
    "\n",
    "for review in filtered_list:\n",
    "    print review['name']"
   ]
  },
  {
   "cell_type": "code",
   "execution_count": 31,
   "metadata": {
    "collapsed": false,
    "scrolled": true
   },
   "outputs": [
    {
     "name": "stdout",
     "output_type": "stream",
     "text": [
      "Safety 1st High-Def Digital Monitor\n",
      "The First Years True Choice P400 Premium Digital Monitor, 2 Parent Unit\n",
      "Peg-Perego Tatamia High Chair, White Latte\n"
     ]
    }
   ],
   "source": [
    "most_negative_reviews = sorted(test_data, key=lambda review: review['predictions'])[0:20]\n",
    "filtered_list = filter(lambda review: review['name'] in \\\n",
    "                       ('The First Years True Choice P400 Premium Digital Monitor, 2 Parent Unit',\\\n",
    "                                               'JP Lizzy Chocolate Ice Classic Tote Set',\\\n",
    "                                               'Peg-Perego Tatamia High Chair, White Latte',\\\n",
    "                                               'Safety 1st High-Def Digital Monitor'), \\\n",
    "             most_negative_reviews)\n",
    "for review in filtered_list:\n",
    "    print review['name']"
   ]
  },
  {
   "cell_type": "markdown",
   "metadata": {
    "collapsed": true
   },
   "source": [
    "**Quiz Question**: Which of the following products are represented in the 20 most negative reviews?  [multiple choice]"
   ]
  },
  {
   "cell_type": "markdown",
   "metadata": {},
   "source": [
    "## Compute accuracy of the classifier\n",
    "\n",
    "We will now evaluate the accuracy of the trained classifer. Recall that the accuracy is given by\n",
    "\n",
    "\n",
    "$$\n",
    "\\mbox{accuracy} = \\frac{\\mbox{# correctly classified examples}}{\\mbox{# total examples}}\n",
    "$$\n",
    "\n",
    "This can be computed as follows:\n",
    "\n",
    "* **Step 1:** Use the trained model to compute class predictions (**Hint:** Use the `predict` method)\n",
    "* **Step 2:** Count the number of data points when the predicted class labels match the ground truth labels (called `true_labels` below).\n",
    "* **Step 3:** Divide the total number of correct predictions by the total number of data points in the dataset.\n",
    "\n",
    "Complete the function below to compute the classification accuracy:"
   ]
  },
  {
   "cell_type": "code",
   "execution_count": 32,
   "metadata": {
    "collapsed": true,
    "scrolled": true
   },
   "outputs": [],
   "source": [
    "def get_classification_accuracy(model, data, true_labels):\n",
    "    # First get the predictions\n",
    "    ## YOUR CODE HERE\n",
    "    predictions = model.predict(data)\n",
    "    \n",
    "    # Compute the number of correctly classified examples\n",
    "    ## YOUR CODE HERE\n",
    "    num_correct = sum(predictions == true_labels)\n",
    "\n",
    "    # Then compute accuracy by dividing num_correct by total number of examples\n",
    "    ## YOUR CODE HERE\n",
    "    accuracy = num_correct / len(data)\n",
    "    \n",
    "    return accuracy"
   ]
  },
  {
   "cell_type": "markdown",
   "metadata": {},
   "source": [
    "Now, let's compute the classification accuracy of the **sentiment_model** on the **test_data**."
   ]
  },
  {
   "cell_type": "code",
   "execution_count": 33,
   "metadata": {
    "collapsed": false
   },
   "outputs": [
    {
     "data": {
      "text/plain": [
       "0.9145368370530358"
      ]
     },
     "execution_count": 33,
     "metadata": {},
     "output_type": "execute_result"
    }
   ],
   "source": [
    "get_classification_accuracy(sentiment_model, test_data, test_data['sentiment'])"
   ]
  },
  {
   "cell_type": "markdown",
   "metadata": {},
   "source": [
    "**Quiz Question**: What is the accuracy of the **sentiment_model** on the **test_data**? Round your answer to 2 decimal places (e.g. 0.76).\n",
    "\n",
    "**Quiz Question**: Does a higher accuracy value on the **training_data** always imply that the classifier is better?"
   ]
  },
  {
   "cell_type": "markdown",
   "metadata": {},
   "source": [
    "## Learn another classifier with fewer words\n",
    "\n",
    "There were a lot of words in the model we trained above. We will now train a simpler logistic regression model using only a subet of words that occur in the reviews. For this assignment, we selected a 20 words to work with. These are:"
   ]
  },
  {
   "cell_type": "code",
   "execution_count": 34,
   "metadata": {
    "collapsed": true
   },
   "outputs": [],
   "source": [
    "significant_words = ['love', 'great', 'easy', 'old', 'little', 'perfect', 'loves', \n",
    "      'well', 'able', 'car', 'broke', 'less', 'even', 'waste', 'disappointed', \n",
    "      'work', 'product', 'money', 'would', 'return']"
   ]
  },
  {
   "cell_type": "code",
   "execution_count": 35,
   "metadata": {
    "collapsed": false
   },
   "outputs": [
    {
     "data": {
      "text/plain": [
       "20"
      ]
     },
     "execution_count": 35,
     "metadata": {},
     "output_type": "execute_result"
    }
   ],
   "source": [
    "len(significant_words)"
   ]
  },
  {
   "cell_type": "markdown",
   "metadata": {},
   "source": [
    "For each review, we will use the **word_count** column and trim out all words that are **not** in the **significant_words** list above. We will use the [SArray dictionary trim by keys functionality]( https://dato.com/products/create/docs/generated/graphlab.SArray.dict_trim_by_keys.html). Note that we are performing this on both the training and test set."
   ]
  },
  {
   "cell_type": "code",
   "execution_count": 36,
   "metadata": {
    "collapsed": false
   },
   "outputs": [],
   "source": [
    "train_data['word_count_subset'] = train_data['word_count'].dict_trim_by_keys(significant_words, exclude=False)\n",
    "test_data['word_count_subset'] = test_data['word_count'].dict_trim_by_keys(significant_words, exclude=False)"
   ]
  },
  {
   "cell_type": "markdown",
   "metadata": {},
   "source": [
    "Let's see what the first example of the dataset looks like:"
   ]
  },
  {
   "cell_type": "code",
   "execution_count": 37,
   "metadata": {
    "collapsed": false
   },
   "outputs": [
    {
     "data": {
      "text/plain": [
       "'it came early and was not disappointed. i love planet wise bags and now my wipe holder. it keps my osocozy wipes moist and does not leak. highly recommend it.'"
      ]
     },
     "execution_count": 37,
     "metadata": {},
     "output_type": "execute_result"
    }
   ],
   "source": [
    "train_data[0]['review']"
   ]
  },
  {
   "cell_type": "markdown",
   "metadata": {},
   "source": [
    "The **word_count** column had been working with before looks like the following:"
   ]
  },
  {
   "cell_type": "code",
   "execution_count": 38,
   "metadata": {
    "collapsed": false
   },
   "outputs": [
    {
     "name": "stdout",
     "output_type": "stream",
     "text": [
      "{'and': 3, 'love': 1, 'it': 3, 'highly': 1, 'osocozy': 1, 'bags': 1, 'leak': 1, 'moist': 1, 'does': 1, 'recommend': 1, 'was': 1, 'wipes': 1, 'disappointed': 1, 'early': 1, 'not': 2, 'now': 1, 'holder': 1, 'wipe': 1, 'keps': 1, 'wise': 1, 'i': 1, 'planet': 1, 'my': 2, 'came': 1}\n"
     ]
    }
   ],
   "source": [
    "print train_data[0]['word_count']"
   ]
  },
  {
   "cell_type": "markdown",
   "metadata": {},
   "source": [
    "Since we are only working with a subet of these words, the column **word_count_subset** is a subset of the above dictionary. In this example, only 2 `significant words` are present in this review."
   ]
  },
  {
   "cell_type": "code",
   "execution_count": 39,
   "metadata": {
    "collapsed": false
   },
   "outputs": [
    {
     "name": "stdout",
     "output_type": "stream",
     "text": [
      "{'love': 1, 'disappointed': 1}\n"
     ]
    }
   ],
   "source": [
    "print train_data[0]['word_count_subset']"
   ]
  },
  {
   "cell_type": "markdown",
   "metadata": {},
   "source": [
    "## Train a logistic regression model on a subset of data"
   ]
  },
  {
   "cell_type": "markdown",
   "metadata": {},
   "source": [
    "We will now build a classifier with **word_count_subset** as the feature and **sentiment** as the target. "
   ]
  },
  {
   "cell_type": "code",
   "execution_count": 40,
   "metadata": {
    "collapsed": false
   },
   "outputs": [
    {
     "data": {
      "text/html": [
       "<pre>Logistic regression:</pre>"
      ],
      "text/plain": [
       "Logistic regression:"
      ]
     },
     "metadata": {},
     "output_type": "display_data"
    },
    {
     "data": {
      "text/html": [
       "<pre>--------------------------------------------------------</pre>"
      ],
      "text/plain": [
       "--------------------------------------------------------"
      ]
     },
     "metadata": {},
     "output_type": "display_data"
    },
    {
     "data": {
      "text/html": [
       "<pre>Number of examples          : 133416</pre>"
      ],
      "text/plain": [
       "Number of examples          : 133416"
      ]
     },
     "metadata": {},
     "output_type": "display_data"
    },
    {
     "data": {
      "text/html": [
       "<pre>Number of classes           : 2</pre>"
      ],
      "text/plain": [
       "Number of classes           : 2"
      ]
     },
     "metadata": {},
     "output_type": "display_data"
    },
    {
     "data": {
      "text/html": [
       "<pre>Number of feature columns   : 1</pre>"
      ],
      "text/plain": [
       "Number of feature columns   : 1"
      ]
     },
     "metadata": {},
     "output_type": "display_data"
    },
    {
     "data": {
      "text/html": [
       "<pre>Number of unpacked features : 20</pre>"
      ],
      "text/plain": [
       "Number of unpacked features : 20"
      ]
     },
     "metadata": {},
     "output_type": "display_data"
    },
    {
     "data": {
      "text/html": [
       "<pre>Number of coefficients    : 21</pre>"
      ],
      "text/plain": [
       "Number of coefficients    : 21"
      ]
     },
     "metadata": {},
     "output_type": "display_data"
    },
    {
     "data": {
      "text/html": [
       "<pre>Starting Newton Method</pre>"
      ],
      "text/plain": [
       "Starting Newton Method"
      ]
     },
     "metadata": {},
     "output_type": "display_data"
    },
    {
     "data": {
      "text/html": [
       "<pre>--------------------------------------------------------</pre>"
      ],
      "text/plain": [
       "--------------------------------------------------------"
      ]
     },
     "metadata": {},
     "output_type": "display_data"
    },
    {
     "data": {
      "text/html": [
       "<pre>+-----------+----------+--------------+-------------------+</pre>"
      ],
      "text/plain": [
       "+-----------+----------+--------------+-------------------+"
      ]
     },
     "metadata": {},
     "output_type": "display_data"
    },
    {
     "data": {
      "text/html": [
       "<pre>| Iteration | Passes   | Elapsed Time | Training-accuracy |</pre>"
      ],
      "text/plain": [
       "| Iteration | Passes   | Elapsed Time | Training-accuracy |"
      ]
     },
     "metadata": {},
     "output_type": "display_data"
    },
    {
     "data": {
      "text/html": [
       "<pre>+-----------+----------+--------------+-------------------+</pre>"
      ],
      "text/plain": [
       "+-----------+----------+--------------+-------------------+"
      ]
     },
     "metadata": {},
     "output_type": "display_data"
    },
    {
     "data": {
      "text/html": [
       "<pre>| 1         | 2        | 0.215738     | 0.862917          |</pre>"
      ],
      "text/plain": [
       "| 1         | 2        | 0.215738     | 0.862917          |"
      ]
     },
     "metadata": {},
     "output_type": "display_data"
    },
    {
     "data": {
      "text/html": [
       "<pre>| 2         | 3        | 0.346734     | 0.865713          |</pre>"
      ],
      "text/plain": [
       "| 2         | 3        | 0.346734     | 0.865713          |"
      ]
     },
     "metadata": {},
     "output_type": "display_data"
    },
    {
     "data": {
      "text/html": [
       "<pre>| 3         | 4        | 0.480948     | 0.866478          |</pre>"
      ],
      "text/plain": [
       "| 3         | 4        | 0.480948     | 0.866478          |"
      ]
     },
     "metadata": {},
     "output_type": "display_data"
    },
    {
     "data": {
      "text/html": [
       "<pre>| 4         | 5        | 0.616759     | 0.866748          |</pre>"
      ],
      "text/plain": [
       "| 4         | 5        | 0.616759     | 0.866748          |"
      ]
     },
     "metadata": {},
     "output_type": "display_data"
    },
    {
     "data": {
      "text/html": [
       "<pre>| 5         | 6        | 0.747878     | 0.866815          |</pre>"
      ],
      "text/plain": [
       "| 5         | 6        | 0.747878     | 0.866815          |"
      ]
     },
     "metadata": {},
     "output_type": "display_data"
    },
    {
     "data": {
      "text/html": [
       "<pre>| 6         | 7        | 0.883796     | 0.866815          |</pre>"
      ],
      "text/plain": [
       "| 6         | 7        | 0.883796     | 0.866815          |"
      ]
     },
     "metadata": {},
     "output_type": "display_data"
    },
    {
     "data": {
      "text/html": [
       "<pre>+-----------+----------+--------------+-------------------+</pre>"
      ],
      "text/plain": [
       "+-----------+----------+--------------+-------------------+"
      ]
     },
     "metadata": {},
     "output_type": "display_data"
    },
    {
     "data": {
      "text/html": [
       "<pre>SUCCESS: Optimal solution found.</pre>"
      ],
      "text/plain": [
       "SUCCESS: Optimal solution found."
      ]
     },
     "metadata": {},
     "output_type": "display_data"
    },
    {
     "data": {
      "text/html": [
       "<pre></pre>"
      ],
      "text/plain": []
     },
     "metadata": {},
     "output_type": "display_data"
    },
    {
     "data": {
      "text/plain": [
       "Class                         : LogisticClassifier\n",
       "\n",
       "Schema\n",
       "------\n",
       "Number of coefficients        : 21\n",
       "Number of examples            : 133416\n",
       "Number of classes             : 2\n",
       "Number of feature columns     : 1\n",
       "Number of unpacked features   : 20\n",
       "\n",
       "Hyperparameters\n",
       "---------------\n",
       "L1 penalty                    : 0.0\n",
       "L2 penalty                    : 0.01\n",
       "\n",
       "Training Summary\n",
       "----------------\n",
       "Solver                        : auto\n",
       "Solver iterations             : 6\n",
       "Solver status                 : SUCCESS: Optimal solution found.\n",
       "Training time (sec)           : 0.9178\n",
       "\n",
       "Settings\n",
       "--------\n",
       "Log-likelihood                : 44323.7254\n",
       "\n",
       "Highest Positive Coefficients\n",
       "-----------------------------\n",
       "word_count_subset[loves]      : 1.6773\n",
       "word_count_subset[perfect]    : 1.5145\n",
       "word_count_subset[love]       : 1.3654\n",
       "(intercept)                   : 1.2995\n",
       "word_count_subset[easy]       : 1.1937\n",
       "\n",
       "Lowest Negative Coefficients\n",
       "----------------------------\n",
       "word_count_subset[disappointed]: -2.3551\n",
       "word_count_subset[return]     : -2.1173\n",
       "word_count_subset[waste]      : -2.0428\n",
       "word_count_subset[broke]      : -1.658\n",
       "word_count_subset[money]      : -0.8979"
      ]
     },
     "execution_count": 40,
     "metadata": {},
     "output_type": "execute_result"
    }
   ],
   "source": [
    "simple_model = graphlab.logistic_classifier.create(train_data,\n",
    "                                                   target = 'sentiment',\n",
    "                                                   features=['word_count_subset'],\n",
    "                                                   validation_set=None)\n",
    "simple_model"
   ]
  },
  {
   "cell_type": "markdown",
   "metadata": {},
   "source": [
    "We can compute the classification accuracy using the `get_classification_accuracy` function you implemented earlier."
   ]
  },
  {
   "cell_type": "code",
   "execution_count": 41,
   "metadata": {
    "collapsed": false
   },
   "outputs": [
    {
     "data": {
      "text/plain": [
       "0.8693004559635229"
      ]
     },
     "execution_count": 41,
     "metadata": {},
     "output_type": "execute_result"
    }
   ],
   "source": [
    "get_classification_accuracy(simple_model, test_data, test_data['sentiment'])"
   ]
  },
  {
   "cell_type": "markdown",
   "metadata": {},
   "source": [
    "Now, we will inspect the weights (coefficients) of the **simple_model**:"
   ]
  },
  {
   "cell_type": "code",
   "execution_count": 42,
   "metadata": {
    "collapsed": false
   },
   "outputs": [
    {
     "data": {
      "text/html": [
       "<div style=\"max-height:1000px;max-width:1500px;overflow:auto;\"><table frame=\"box\" rules=\"cols\">\n",
       "    <tr>\n",
       "        <th style=\"padding-left: 1em; padding-right: 1em; text-align: center\">name</th>\n",
       "        <th style=\"padding-left: 1em; padding-right: 1em; text-align: center\">index</th>\n",
       "        <th style=\"padding-left: 1em; padding-right: 1em; text-align: center\">class</th>\n",
       "        <th style=\"padding-left: 1em; padding-right: 1em; text-align: center\">value</th>\n",
       "        <th style=\"padding-left: 1em; padding-right: 1em; text-align: center\">stderr</th>\n",
       "    </tr>\n",
       "    <tr>\n",
       "        <td style=\"padding-left: 1em; padding-right: 1em; text-align: center; vertical-align: top\">(intercept)</td>\n",
       "        <td style=\"padding-left: 1em; padding-right: 1em; text-align: center; vertical-align: top\">None</td>\n",
       "        <td style=\"padding-left: 1em; padding-right: 1em; text-align: center; vertical-align: top\">1</td>\n",
       "        <td style=\"padding-left: 1em; padding-right: 1em; text-align: center; vertical-align: top\">1.2995449552</td>\n",
       "        <td style=\"padding-left: 1em; padding-right: 1em; text-align: center; vertical-align: top\">0.0120888541331</td>\n",
       "    </tr>\n",
       "    <tr>\n",
       "        <td style=\"padding-left: 1em; padding-right: 1em; text-align: center; vertical-align: top\">word_count_subset</td>\n",
       "        <td style=\"padding-left: 1em; padding-right: 1em; text-align: center; vertical-align: top\">disappointed</td>\n",
       "        <td style=\"padding-left: 1em; padding-right: 1em; text-align: center; vertical-align: top\">1</td>\n",
       "        <td style=\"padding-left: 1em; padding-right: 1em; text-align: center; vertical-align: top\">-2.35509250061</td>\n",
       "        <td style=\"padding-left: 1em; padding-right: 1em; text-align: center; vertical-align: top\">0.0504149888557</td>\n",
       "    </tr>\n",
       "    <tr>\n",
       "        <td style=\"padding-left: 1em; padding-right: 1em; text-align: center; vertical-align: top\">word_count_subset</td>\n",
       "        <td style=\"padding-left: 1em; padding-right: 1em; text-align: center; vertical-align: top\">love</td>\n",
       "        <td style=\"padding-left: 1em; padding-right: 1em; text-align: center; vertical-align: top\">1</td>\n",
       "        <td style=\"padding-left: 1em; padding-right: 1em; text-align: center; vertical-align: top\">1.36543549368</td>\n",
       "        <td style=\"padding-left: 1em; padding-right: 1em; text-align: center; vertical-align: top\">0.0303546295109</td>\n",
       "    </tr>\n",
       "    <tr>\n",
       "        <td style=\"padding-left: 1em; padding-right: 1em; text-align: center; vertical-align: top\">word_count_subset</td>\n",
       "        <td style=\"padding-left: 1em; padding-right: 1em; text-align: center; vertical-align: top\">well</td>\n",
       "        <td style=\"padding-left: 1em; padding-right: 1em; text-align: center; vertical-align: top\">1</td>\n",
       "        <td style=\"padding-left: 1em; padding-right: 1em; text-align: center; vertical-align: top\">0.504256746398</td>\n",
       "        <td style=\"padding-left: 1em; padding-right: 1em; text-align: center; vertical-align: top\">0.021381300631</td>\n",
       "    </tr>\n",
       "    <tr>\n",
       "        <td style=\"padding-left: 1em; padding-right: 1em; text-align: center; vertical-align: top\">word_count_subset</td>\n",
       "        <td style=\"padding-left: 1em; padding-right: 1em; text-align: center; vertical-align: top\">product</td>\n",
       "        <td style=\"padding-left: 1em; padding-right: 1em; text-align: center; vertical-align: top\">1</td>\n",
       "        <td style=\"padding-left: 1em; padding-right: 1em; text-align: center; vertical-align: top\">-0.320555492996</td>\n",
       "        <td style=\"padding-left: 1em; padding-right: 1em; text-align: center; vertical-align: top\">0.0154311321362</td>\n",
       "    </tr>\n",
       "    <tr>\n",
       "        <td style=\"padding-left: 1em; padding-right: 1em; text-align: center; vertical-align: top\">word_count_subset</td>\n",
       "        <td style=\"padding-left: 1em; padding-right: 1em; text-align: center; vertical-align: top\">loves</td>\n",
       "        <td style=\"padding-left: 1em; padding-right: 1em; text-align: center; vertical-align: top\">1</td>\n",
       "        <td style=\"padding-left: 1em; padding-right: 1em; text-align: center; vertical-align: top\">1.67727145556</td>\n",
       "        <td style=\"padding-left: 1em; padding-right: 1em; text-align: center; vertical-align: top\">0.0482328275384</td>\n",
       "    </tr>\n",
       "    <tr>\n",
       "        <td style=\"padding-left: 1em; padding-right: 1em; text-align: center; vertical-align: top\">word_count_subset</td>\n",
       "        <td style=\"padding-left: 1em; padding-right: 1em; text-align: center; vertical-align: top\">little</td>\n",
       "        <td style=\"padding-left: 1em; padding-right: 1em; text-align: center; vertical-align: top\">1</td>\n",
       "        <td style=\"padding-left: 1em; padding-right: 1em; text-align: center; vertical-align: top\">0.520628636025</td>\n",
       "        <td style=\"padding-left: 1em; padding-right: 1em; text-align: center; vertical-align: top\">0.0214691475665</td>\n",
       "    </tr>\n",
       "    <tr>\n",
       "        <td style=\"padding-left: 1em; padding-right: 1em; text-align: center; vertical-align: top\">word_count_subset</td>\n",
       "        <td style=\"padding-left: 1em; padding-right: 1em; text-align: center; vertical-align: top\">work</td>\n",
       "        <td style=\"padding-left: 1em; padding-right: 1em; text-align: center; vertical-align: top\">1</td>\n",
       "        <td style=\"padding-left: 1em; padding-right: 1em; text-align: center; vertical-align: top\">-0.621700012425</td>\n",
       "        <td style=\"padding-left: 1em; padding-right: 1em; text-align: center; vertical-align: top\">0.0230330597946</td>\n",
       "    </tr>\n",
       "    <tr>\n",
       "        <td style=\"padding-left: 1em; padding-right: 1em; text-align: center; vertical-align: top\">word_count_subset</td>\n",
       "        <td style=\"padding-left: 1em; padding-right: 1em; text-align: center; vertical-align: top\">easy</td>\n",
       "        <td style=\"padding-left: 1em; padding-right: 1em; text-align: center; vertical-align: top\">1</td>\n",
       "        <td style=\"padding-left: 1em; padding-right: 1em; text-align: center; vertical-align: top\">1.19366189833</td>\n",
       "        <td style=\"padding-left: 1em; padding-right: 1em; text-align: center; vertical-align: top\">0.029288869202</td>\n",
       "    </tr>\n",
       "    <tr>\n",
       "        <td style=\"padding-left: 1em; padding-right: 1em; text-align: center; vertical-align: top\">word_count_subset</td>\n",
       "        <td style=\"padding-left: 1em; padding-right: 1em; text-align: center; vertical-align: top\">great</td>\n",
       "        <td style=\"padding-left: 1em; padding-right: 1em; text-align: center; vertical-align: top\">1</td>\n",
       "        <td style=\"padding-left: 1em; padding-right: 1em; text-align: center; vertical-align: top\">0.94469126948</td>\n",
       "        <td style=\"padding-left: 1em; padding-right: 1em; text-align: center; vertical-align: top\">0.0209509926591</td>\n",
       "    </tr>\n",
       "</table>\n",
       "[21 rows x 5 columns]<br/>Note: Only the head of the SFrame is printed.<br/>You can use print_rows(num_rows=m, num_columns=n) to print more rows and columns.\n",
       "</div>"
      ],
      "text/plain": [
       "Columns:\n",
       "\tname\tstr\n",
       "\tindex\tstr\n",
       "\tclass\tint\n",
       "\tvalue\tfloat\n",
       "\tstderr\tfloat\n",
       "\n",
       "Rows: 21\n",
       "\n",
       "Data:\n",
       "+-------------------+--------------+-------+-----------------+-----------------+\n",
       "|        name       |    index     | class |      value      |      stderr     |\n",
       "+-------------------+--------------+-------+-----------------+-----------------+\n",
       "|    (intercept)    |     None     |   1   |   1.2995449552  | 0.0120888541331 |\n",
       "| word_count_subset | disappointed |   1   |  -2.35509250061 | 0.0504149888557 |\n",
       "| word_count_subset |     love     |   1   |  1.36543549368  | 0.0303546295109 |\n",
       "| word_count_subset |     well     |   1   |  0.504256746398 |  0.021381300631 |\n",
       "| word_count_subset |   product    |   1   | -0.320555492996 | 0.0154311321362 |\n",
       "| word_count_subset |    loves     |   1   |  1.67727145556  | 0.0482328275384 |\n",
       "| word_count_subset |    little    |   1   |  0.520628636025 | 0.0214691475665 |\n",
       "| word_count_subset |     work     |   1   | -0.621700012425 | 0.0230330597946 |\n",
       "| word_count_subset |     easy     |   1   |  1.19366189833  |  0.029288869202 |\n",
       "| word_count_subset |    great     |   1   |  0.94469126948  | 0.0209509926591 |\n",
       "+-------------------+--------------+-------+-----------------+-----------------+\n",
       "[21 rows x 5 columns]\n",
       "Note: Only the head of the SFrame is printed.\n",
       "You can use print_rows(num_rows=m, num_columns=n) to print more rows and columns."
      ]
     },
     "execution_count": 42,
     "metadata": {},
     "output_type": "execute_result"
    }
   ],
   "source": [
    "simple_model.coefficients"
   ]
  },
  {
   "cell_type": "markdown",
   "metadata": {},
   "source": [
    "Let's sort the coefficients (in descending order) by the **value** to obtain the coefficients with the most positive effect on the sentiment."
   ]
  },
  {
   "cell_type": "code",
   "execution_count": 43,
   "metadata": {
    "collapsed": false
   },
   "outputs": [
    {
     "name": "stdout",
     "output_type": "stream",
     "text": [
      "+-------------------+--------------+-------+-----------------+-----------------+\n",
      "|        name       |    index     | class |      value      |      stderr     |\n",
      "+-------------------+--------------+-------+-----------------+-----------------+\n",
      "| word_count_subset |    loves     |   1   |  1.67727145556  | 0.0482328275384 |\n",
      "| word_count_subset |   perfect    |   1   |  1.51448626703  |  0.049861952294 |\n",
      "| word_count_subset |     love     |   1   |  1.36543549368  | 0.0303546295109 |\n",
      "|    (intercept)    |     None     |   1   |   1.2995449552  | 0.0120888541331 |\n",
      "| word_count_subset |     easy     |   1   |  1.19366189833  |  0.029288869202 |\n",
      "| word_count_subset |    great     |   1   |  0.94469126948  | 0.0209509926591 |\n",
      "| word_count_subset |    little    |   1   |  0.520628636025 | 0.0214691475665 |\n",
      "| word_count_subset |     well     |   1   |  0.504256746398 |  0.021381300631 |\n",
      "| word_count_subset |     able     |   1   |  0.191438302295 | 0.0337581955697 |\n",
      "| word_count_subset |     old      |   1   | 0.0853961886678 | 0.0200863423025 |\n",
      "| word_count_subset |     car      |   1   |  0.058834990068 | 0.0168291532091 |\n",
      "| word_count_subset |     less     |   1   | -0.209709815216 |  0.040505735954 |\n",
      "| word_count_subset |   product    |   1   | -0.320555492996 | 0.0154311321362 |\n",
      "| word_count_subset |    would     |   1   | -0.362308947711 | 0.0127544751985 |\n",
      "| word_count_subset |     even     |   1   |  -0.51173855127 | 0.0199612760261 |\n",
      "| word_count_subset |     work     |   1   | -0.621700012425 | 0.0230330597946 |\n",
      "| word_count_subset |    money     |   1   | -0.897884155776 | 0.0339936732836 |\n",
      "| word_count_subset |    broke     |   1   |  -1.65796447838 | 0.0580878907166 |\n",
      "| word_count_subset |    waste     |   1   |   -2.042773611  | 0.0644702932444 |\n",
      "| word_count_subset |    return    |   1   |  -2.11729659718 | 0.0578650807241 |\n",
      "| word_count_subset | disappointed |   1   |  -2.35509250061 | 0.0504149888557 |\n",
      "+-------------------+--------------+-------+-----------------+-----------------+\n",
      "[21 rows x 5 columns]\n",
      "\n"
     ]
    }
   ],
   "source": [
    "simple_model.coefficients.sort('value', ascending=False).print_rows(num_rows=21)"
   ]
  },
  {
   "cell_type": "code",
   "execution_count": 53,
   "metadata": {
    "collapsed": false
   },
   "outputs": [
    {
     "name": "stdout",
     "output_type": "stream",
     "text": [
      "+------------+-------------------------------+-------+---------------+--------+\n",
      "|    name    |             index             | class |     value     | stderr |\n",
      "+------------+-------------------------------+-------+---------------+--------+\n",
      "| word_count |          mobileupdate         |   1   | 41.9846857331 |  None  |\n",
      "| word_count |            placeid            |   1   | 41.7353817239 |  None  |\n",
      "| word_count |            labelbox           |   1   | 41.1510061892 |  None  |\n",
      "| word_count | httpwwwamazoncomreviewrhgg... |   1   | 40.0453987161 |  None  |\n",
      "| word_count |          knobskeeping         |   1   | 36.2091068414 |  None  |\n",
      "| word_count |          chinaseveral         |   1   | 35.6239528378 |  None  |\n",
      "| word_count |          concurrently         |   1   | 33.3530175085 |  None  |\n",
      "| word_count |             71613             |   1   | 33.3530175085 |  None  |\n",
      "| word_count |              073              |   1   | 33.3530175085 |  None  |\n",
      "| word_count |           pailupdate          |   1   | 33.3530175085 |  None  |\n",
      "| word_count |          bedroompros          |   1   | 33.3031340446 |  None  |\n",
      "| word_count |          soundwhether         |   1   | 33.3031340446 |  None  |\n",
      "| word_count |      exactsimilarupdated      |   1   | 33.3031340446 |  None  |\n",
      "| word_count |          responseits          |   1   | 33.3031340446 |  None  |\n",
      "| word_count |           audiosound          |   1   | 33.3031340446 |  None  |\n",
      "| word_count |            reeltype           |   1   | 33.2225391628 |  None  |\n",
      "| word_count |             isive             |   1   | 33.2225391628 |  None  |\n",
      "| word_count |           uniquefour          |   1   | 33.2225391628 |  None  |\n",
      "| word_count |          adjustmentmy         |   1   | 33.2225391628 |  None  |\n",
      "| word_count |            bleach34           |   1   | 33.1338295946 |  None  |\n",
      "| word_count |             gluey             |   1   | 33.1338295946 |  None  |\n",
      "+------------+-------------------------------+-------+---------------+--------+\n",
      "[121713 rows x 5 columns]\n",
      "\n"
     ]
    }
   ],
   "source": [
    "sentiment_model.coefficients.sort('value', ascending=False).print_rows(num_rows=21)"
   ]
  },
  {
   "cell_type": "markdown",
   "metadata": {},
   "source": [
    "**Quiz Question**: Consider the coefficients of **simple_model**. There should be 21 of them, an intercept term + one for each word in **significant_words**. How many of the 20 coefficients (corresponding to the 20 **significant_words** and *excluding the intercept term*) are positive for the `simple_model`?"
   ]
  },
  {
   "cell_type": "code",
   "execution_count": 46,
   "metadata": {
    "collapsed": false
   },
   "outputs": [
    {
     "data": {
      "text/plain": [
       "11"
      ]
     },
     "execution_count": 46,
     "metadata": {},
     "output_type": "execute_result"
    }
   ],
   "source": [
    "len(filter(lambda x: x['value'] > 0,simple_model.coefficients))"
   ]
  },
  {
   "cell_type": "markdown",
   "metadata": {},
   "source": [
    "**Quiz Question**: Are the positive words in the **simple_model** (let us call them `positive_significant_words`) also positive words in the **sentiment_model**?"
   ]
  },
  {
   "cell_type": "code",
   "execution_count": 56,
   "metadata": {
    "collapsed": false
   },
   "outputs": [
    {
     "name": "stdout",
     "output_type": "stream",
     "text": [
      "True\n"
     ]
    }
   ],
   "source": [
    "def get_positive_words(model):\n",
    "    return map(lambda row: row['index'], filter(lambda x: x['value'] > 0,model.coefficients))\n",
    "\n",
    "positive_significant_words = get_positive_words(simple_model)\n",
    "positive_sentiment_model_words = get_positive_words(sentiment_model)\n",
    "\n",
    "print set(positive_significant_words) <= set(positive_sentiment_model_words)"
   ]
  },
  {
   "cell_type": "markdown",
   "metadata": {},
   "source": [
    "# Comparing models"
   ]
  },
  {
   "cell_type": "markdown",
   "metadata": {},
   "source": [
    "We will now compare the accuracy of the **sentiment_model** and the **simple_model** using the `get_classification_accuracy` method you implemented above.\n",
    "\n",
    "First, compute the classification accuracy of the **sentiment_model** on the **train_data**:"
   ]
  },
  {
   "cell_type": "code",
   "execution_count": 58,
   "metadata": {
    "collapsed": false
   },
   "outputs": [
    {
     "data": {
      "text/plain": [
       "0.979440247046831"
      ]
     },
     "execution_count": 58,
     "metadata": {},
     "output_type": "execute_result"
    }
   ],
   "source": [
    "get_classification_accuracy(sentiment_model, train_data, train_data['sentiment'])"
   ]
  },
  {
   "cell_type": "markdown",
   "metadata": {},
   "source": [
    "Now, compute the classification accuracy of the **simple_model** on the **train_data**:"
   ]
  },
  {
   "cell_type": "code",
   "execution_count": 59,
   "metadata": {
    "collapsed": false
   },
   "outputs": [
    {
     "data": {
      "text/plain": [
       "0.8668150746537147"
      ]
     },
     "execution_count": 59,
     "metadata": {},
     "output_type": "execute_result"
    }
   ],
   "source": [
    "get_classification_accuracy(simple_model, train_data, train_data['sentiment'])"
   ]
  },
  {
   "cell_type": "markdown",
   "metadata": {},
   "source": [
    "**Quiz Question**: Which model (**sentiment_model** or **simple_model**) has higher accuracy on the TRAINING set?"
   ]
  },
  {
   "cell_type": "markdown",
   "metadata": {},
   "source": [
    "Now, we will repeat this excercise on the **test_data**. Start by computing the classification accuracy of the **sentiment_model** on the **test_data**:"
   ]
  },
  {
   "cell_type": "code",
   "execution_count": 60,
   "metadata": {
    "collapsed": false
   },
   "outputs": [
    {
     "data": {
      "text/plain": [
       "0.9145368370530358"
      ]
     },
     "execution_count": 60,
     "metadata": {},
     "output_type": "execute_result"
    }
   ],
   "source": [
    "get_classification_accuracy(sentiment_model, test_data, test_data['sentiment'])"
   ]
  },
  {
   "cell_type": "markdown",
   "metadata": {},
   "source": [
    "Next, we will compute the classification accuracy of the **simple_model** on the **test_data**:"
   ]
  },
  {
   "cell_type": "code",
   "execution_count": 61,
   "metadata": {
    "collapsed": false
   },
   "outputs": [
    {
     "data": {
      "text/plain": [
       "0.8693004559635229"
      ]
     },
     "execution_count": 61,
     "metadata": {},
     "output_type": "execute_result"
    }
   ],
   "source": [
    "get_classification_accuracy(simple_model, test_data, test_data['sentiment'])"
   ]
  },
  {
   "cell_type": "markdown",
   "metadata": {},
   "source": [
    "**Quiz Question**: Which model (**sentiment_model** or **simple_model**) has higher accuracy on the TEST set?"
   ]
  },
  {
   "cell_type": "markdown",
   "metadata": {},
   "source": [
    "## Baseline: Majority class prediction\n",
    "\n",
    "It is quite common to use the **majority class classifier** as the a baseline (or reference) model for comparison with your classifier model. The majority classifier model predicts the majority class for all data points. At the very least, you should healthily beat the majority class classifier, otherwise, the model is (usually) pointless.\n",
    "\n",
    "What is the majority class in the **train_data**?"
   ]
  },
  {
   "cell_type": "code",
   "execution_count": 62,
   "metadata": {
    "collapsed": false
   },
   "outputs": [
    {
     "name": "stdout",
     "output_type": "stream",
     "text": [
      "112164\n",
      "21252\n"
     ]
    }
   ],
   "source": [
    "num_positive  = (train_data['sentiment'] == +1).sum()\n",
    "num_negative = (train_data['sentiment'] == -1).sum()\n",
    "print num_positive\n",
    "print num_negative"
   ]
  },
  {
   "cell_type": "markdown",
   "metadata": {},
   "source": [
    "Now compute the accuracy of the majority class classifier on **test_data**.\n",
    "\n",
    "**Quiz Question**: Enter the accuracy of the majority class classifier model on the **test_data**. Round your answer to two decimal places (e.g. 0.76)."
   ]
  },
  {
   "cell_type": "code",
   "execution_count": 65,
   "metadata": {
    "collapsed": false,
    "scrolled": true
   },
   "outputs": [
    {
     "data": {
      "text/plain": [
       "0.8427825773938085"
      ]
     },
     "execution_count": 65,
     "metadata": {},
     "output_type": "execute_result"
    }
   ],
   "source": [
    "num_positive  = (test_data['sentiment'] == +1).sum()\n",
    "num_negative = (test_data['sentiment'] == -1).sum()\n",
    "\n",
    "num_positive / (num_positive + num_negative)"
   ]
  },
  {
   "cell_type": "markdown",
   "metadata": {},
   "source": [
    "**Quiz Question**: Is the **sentiment_model** definitely better than the majority class classifier (the baseline)?"
   ]
  }
 ],
 "metadata": {
  "kernelspec": {
   "display_name": "Python 2",
   "language": "python",
   "name": "python2"
  },
  "language_info": {
   "codemirror_mode": {
    "name": "ipython",
    "version": 2
   },
   "file_extension": ".py",
   "mimetype": "text/x-python",
   "name": "python",
   "nbconvert_exporter": "python",
   "pygments_lexer": "ipython2",
   "version": "2.7.11"
  }
 },
 "nbformat": 4,
 "nbformat_minor": 0
}
